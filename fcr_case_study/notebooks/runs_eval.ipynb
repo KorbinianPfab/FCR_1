{
 "cells": [
  {
   "cell_type": "code",
   "execution_count": 1,
   "metadata": {},
   "outputs": [],
   "source": [
    "import numpy as np\n",
    "import pandas as pd"
   ]
  },
  {
   "cell_type": "code",
   "execution_count": 30,
   "metadata": {},
   "outputs": [
    {
     "name": "stderr",
     "output_type": "stream",
     "text": [
      "C:\\Users\\z003hfnh\\AppData\\Local\\Temp\\ipykernel_32388\\2083096303.py:3: SettingWithCopyWarning:\n",
      "\n",
      "\n",
      "A value is trying to be set on a copy of a slice from a DataFrame.\n",
      "Try using .loc[row_indexer,col_indexer] = value instead\n",
      "\n",
      "See the caveats in the documentation: https://pandas.pydata.org/pandas-docs/stable/user_guide/indexing.html#returning-a-view-versus-a-copy\n",
      "\n",
      "C:\\Users\\z003hfnh\\AppData\\Local\\Temp\\ipykernel_32388\\2083096303.py:3: SettingWithCopyWarning:\n",
      "\n",
      "\n",
      "A value is trying to be set on a copy of a slice from a DataFrame.\n",
      "Try using .loc[row_indexer,col_indexer] = value instead\n",
      "\n",
      "See the caveats in the documentation: https://pandas.pydata.org/pandas-docs/stable/user_guide/indexing.html#returning-a-view-versus-a-copy\n",
      "\n",
      "C:\\Users\\z003hfnh\\AppData\\Local\\Temp\\ipykernel_32388\\2083096303.py:3: SettingWithCopyWarning:\n",
      "\n",
      "\n",
      "A value is trying to be set on a copy of a slice from a DataFrame.\n",
      "Try using .loc[row_indexer,col_indexer] = value instead\n",
      "\n",
      "See the caveats in the documentation: https://pandas.pydata.org/pandas-docs/stable/user_guide/indexing.html#returning-a-view-versus-a-copy\n",
      "\n",
      "C:\\Users\\z003hfnh\\AppData\\Local\\Temp\\ipykernel_32388\\2083096303.py:3: SettingWithCopyWarning:\n",
      "\n",
      "\n",
      "A value is trying to be set on a copy of a slice from a DataFrame.\n",
      "Try using .loc[row_indexer,col_indexer] = value instead\n",
      "\n",
      "See the caveats in the documentation: https://pandas.pydata.org/pandas-docs/stable/user_guide/indexing.html#returning-a-view-versus-a-copy\n",
      "\n",
      "C:\\Users\\z003hfnh\\AppData\\Local\\Temp\\ipykernel_32388\\2083096303.py:7: SettingWithCopyWarning:\n",
      "\n",
      "\n",
      "A value is trying to be set on a copy of a slice from a DataFrame\n",
      "\n",
      "See the caveats in the documentation: https://pandas.pydata.org/pandas-docs/stable/user_guide/indexing.html#returning-a-view-versus-a-copy\n",
      "\n"
     ]
    }
   ],
   "source": [
    "df=pd.read_csv(\"./runs/runs.csv\").drop(columns=[\"Start Time\", \"Duration\", \"Run ID\", \"Source Type\", \"Status\"])\n",
    "automl_df=df[[\"AutoML\" in name for name in df[\"Name\"]]]\n",
    "automl_df[[\"Model\",\"TargetMetric\",\"Threshold\",\"Treshold_type\",\"Seed\"]]=automl_df[\"Name\"].str.split(\"_\",expand=True)\n",
    "for idx in automl_df.index:\n",
    "    if automl_df.loc[idx,\"Seed\"] is None:\n",
    "        automl_df.loc[idx,\"Seed\"]=automl_df.loc[idx,\"Treshold_type\"]\n",
    "automl_df.drop(columns=[\"Treshold_type\",\"TargetMetric\"],inplace=True)\n",
    "df =df[[not \"AutoML\"in name for name in df[\"Name\"]]]\n",
    "df[[\"Model\",\"TargetMetric\",\"Threshold\",\"Seed\"]]=df[\"Name\"].str.split(\"_\",expand=True)"
   ]
  },
  {
   "cell_type": "code",
   "execution_count": 31,
   "metadata": {},
   "outputs": [],
   "source": [
    "df[[\"Model\",\"TargetMetric\",\"Threshold\",\"Seed\"]]=df[\"Name\"].str.split(\"_\",expand=True)"
   ]
  },
  {
   "cell_type": "code",
   "execution_count": 32,
   "metadata": {},
   "outputs": [],
   "source": [
    "dummy_df=df[df[\"Name\"]==\"DummyModel\"]\n",
    "df=df[df[\"Name\"]!=\"DummyModel\"]"
   ]
  },
  {
   "cell_type": "code",
   "execution_count": 33,
   "metadata": {},
   "outputs": [],
   "source": [
    "metric_columns= [c for c in df.columns if \"Test\" in c or \"Eval\" in c]"
   ]
  },
  {
   "cell_type": "code",
   "execution_count": 34,
   "metadata": {},
   "outputs": [],
   "source": [
    "new_df_list=list()\n",
    "for model in np.unique(df[\"Model\"]):\n",
    "    for metric in np.unique(df[\"TargetMetric\"]):\n",
    "        for threshold in np.unique(df[\"Threshold\"]):\n",
    "            filtered_df=df[df[\"Model\"]==model]\n",
    "            filtered_df=filtered_df[filtered_df[\"TargetMetric\"]==metric]\n",
    "            filtered_df=filtered_df[filtered_df[\"Threshold\"]==threshold]\n",
    "            calculation_dict=dict()\n",
    "            calculation_dict[\"Model\"]=model\n",
    "            calculation_dict[\"TargetMetric\"]=metric\n",
    "            calculation_dict[\"Threshold\"]=threshold\n",
    "            for metric_column in metric_columns:\n",
    "                calculation_dict[metric_column+\"Std\"]=np.std(filtered_df[metric_column])\n",
    "                calculation_dict[metric_column+\"Mean\"]=np.mean(filtered_df[metric_column])\n",
    "                calculation_dict[metric_column+\"Max\"]=np.max(filtered_df[metric_column])\n",
    "                calculation_dict[metric_column+\"Min\"]=np.min(filtered_df[metric_column])\n",
    "                calculation_dict[metric_column+\"Median\"]=np.median(filtered_df[metric_column])\n",
    "                calculation_dict[metric_column+\"PrintOut\"]=str(np.round(np.mean(filtered_df[metric_column]),3)) +u\"\\u00B1\"+str(np.round(np.std(filtered_df[metric_column]),3))\n",
    "                if \"Recall\" in metric_column and metric_column[0]==\"R\":\n",
    "                    calculation_dict[\"Slip\"+metric_column[6:]+\"Std\"]=np.std(filtered_df[metric_column])\n",
    "                    calculation_dict[\"Slip\"+metric_column[6:]+\"Mean\"]=np.mean(filtered_df[metric_column])\n",
    "                    calculation_dict[\"Slip\"+metric_column[6:]+\"PrintOut\"]=str(np.round(1-np.mean(filtered_df[metric_column]),3)) +u\"\\u00B1\"+str(np.round(np.std(filtered_df[metric_column]),3))\n",
    "            new_df_list.append(calculation_dict)\n",
    "    #         break\n",
    "    #     break\n",
    "    # break\n",
    "eval_df=pd.DataFrame.from_records(new_df_list)"
   ]
  },
  {
   "cell_type": "code",
   "execution_count": 35,
   "metadata": {},
   "outputs": [],
   "source": [
    "new_df_list=list()\n",
    "for model in np.unique(dummy_df[\"Model\"]):\n",
    "    # for metric in np.unique(dummy_df[\"TargetMetric\"]):\n",
    "    # for threshold in np.unique(dummy_df[\"Threshold\"]):\n",
    "    filtered_df=dummy_df[dummy_df[\"Model\"]==model]\n",
    "    # filtered_df=filtered_df[filtered_df[\"TargetMetric\"]==metric]\n",
    "    # filtered_df=filtered_df[filtered_df[\"Threshold\"]==threshold]\n",
    "    calculation_dict=dict()\n",
    "    calculation_dict[\"Model\"]=model\n",
    "    calculation_dict[\"TargetMetric\"]=metric\n",
    "    calculation_dict[\"Threshold\"]=threshold\n",
    "    for metric_column in metric_columns:\n",
    "        calculation_dict[metric_column+\"Std\"]=np.std(filtered_df[metric_column])\n",
    "        calculation_dict[metric_column+\"Mean\"]=np.mean(filtered_df[metric_column])\n",
    "        calculation_dict[metric_column+\"Max\"]=np.max(filtered_df[metric_column])\n",
    "        calculation_dict[metric_column+\"Min\"]=np.min(filtered_df[metric_column])\n",
    "        calculation_dict[metric_column+\"Median\"]=np.median(filtered_df[metric_column])\n",
    "        calculation_dict[metric_column+\"PrintOut\"]=str(np.round(np.mean(filtered_df[metric_column]),3)) +u\"\\u00B1\"+str(np.round(np.std(filtered_df[metric_column]),3))\n",
    "        if \"Recall\" in metric_column and metric_column[0]==\"R\":\n",
    "            calculation_dict[\"Slip\"+metric_column[6:]+\"Std\"]=np.std(filtered_df[metric_column])\n",
    "            calculation_dict[\"Slip\"+metric_column[6:]+\"Mean\"]=np.mean(filtered_df[metric_column])\n",
    "            calculation_dict[\"Slip\"+metric_column[6:]+\"PrintOut\"]=str(np.round(1-np.mean(filtered_df[metric_column]),3)) +u\"\\u00B1\"+str(np.round(np.std(filtered_df[metric_column]),3))\n",
    "    new_df_list.append(calculation_dict)\n",
    "#         break\n",
    "#     break\n",
    "# break\n",
    "dummy_eval_df=pd.DataFrame.from_records(new_df_list)"
   ]
  },
  {
   "cell_type": "code",
   "execution_count": 36,
   "metadata": {},
   "outputs": [
    {
     "data": {
      "text/html": [
       "<div>\n",
       "<style scoped>\n",
       "    .dataframe tbody tr th:only-of-type {\n",
       "        vertical-align: middle;\n",
       "    }\n",
       "\n",
       "    .dataframe tbody tr th {\n",
       "        vertical-align: top;\n",
       "    }\n",
       "\n",
       "    .dataframe thead th {\n",
       "        text-align: right;\n",
       "    }\n",
       "</style>\n",
       "<table border=\"1\" class=\"dataframe\">\n",
       "  <thead>\n",
       "    <tr style=\"text-align: right;\">\n",
       "      <th></th>\n",
       "      <th>Model</th>\n",
       "      <th>AccuracyTestPrintOut</th>\n",
       "      <th>F1ScoreTestPrintOut</th>\n",
       "      <th>PrecisionRecallAUCTestPrintOut</th>\n",
       "      <th>YoudenIndexTestPrintOut</th>\n",
       "    </tr>\n",
       "  </thead>\n",
       "  <tbody>\n",
       "    <tr>\n",
       "      <th>2</th>\n",
       "      <td>BRFC</td>\n",
       "      <td>0.964±0.005</td>\n",
       "      <td>0.299±0.029</td>\n",
       "      <td>0.713±0.02</td>\n",
       "      <td>0.919±0.013</td>\n",
       "    </tr>\n",
       "    <tr>\n",
       "      <th>6</th>\n",
       "      <td>RFC</td>\n",
       "      <td>0.983±0.005</td>\n",
       "      <td>0.485±0.094</td>\n",
       "      <td>0.842±0.016</td>\n",
       "      <td>0.948±0.01</td>\n",
       "    </tr>\n",
       "    <tr>\n",
       "      <th>10</th>\n",
       "      <td>XGBoost</td>\n",
       "      <td>0.993±0.005</td>\n",
       "      <td>0.699±0.124</td>\n",
       "      <td>0.909±0.015</td>\n",
       "      <td>0.959±0.013</td>\n",
       "    </tr>\n",
       "    <tr>\n",
       "      <th>14</th>\n",
       "      <td>kNN</td>\n",
       "      <td>0.981±0.011</td>\n",
       "      <td>0.473±0.146</td>\n",
       "      <td>0.739±0.023</td>\n",
       "      <td>0.879±0.036</td>\n",
       "    </tr>\n",
       "  </tbody>\n",
       "</table>\n",
       "</div>"
      ],
      "text/plain": [
       "      Model AccuracyTestPrintOut F1ScoreTestPrintOut  \\\n",
       "2      BRFC          0.964±0.005         0.299±0.029   \n",
       "6       RFC          0.983±0.005         0.485±0.094   \n",
       "10  XGBoost          0.993±0.005         0.699±0.124   \n",
       "14      kNN          0.981±0.011         0.473±0.146   \n",
       "\n",
       "   PrecisionRecallAUCTestPrintOut YoudenIndexTestPrintOut  \n",
       "2                      0.713±0.02             0.919±0.013  \n",
       "6                     0.842±0.016              0.948±0.01  \n",
       "10                    0.909±0.015             0.959±0.013  \n",
       "14                    0.739±0.023             0.879±0.036  "
      ]
     },
     "execution_count": 36,
     "metadata": {},
     "output_type": "execute_result"
    }
   ],
   "source": [
    "tempdf=eval_df[[\"Model\",\"TargetMetric\",\"Threshold\"]+[c for c in eval_df.columns if \"PrintOut\" in c and \"Test\" in c]]\n",
    "tempdf=tempdf[tempdf[\"TargetMetric\"]==\"PrecisionRecallAUC\"]\n",
    "tempdf[tempdf[\"Threshold\"]==\"AdaptedThreshold\"][[\"Model\",\"AccuracyTestPrintOut\",\"F1ScoreTestPrintOut\",\"PrecisionRecallAUCTestPrintOut\",\"YoudenIndexTestPrintOut\"]]"
   ]
  },
  {
   "cell_type": "code",
   "execution_count": 37,
   "metadata": {},
   "outputs": [
    {
     "data": {
      "text/html": [
       "<div>\n",
       "<style scoped>\n",
       "    .dataframe tbody tr th:only-of-type {\n",
       "        vertical-align: middle;\n",
       "    }\n",
       "\n",
       "    .dataframe tbody tr th {\n",
       "        vertical-align: top;\n",
       "    }\n",
       "\n",
       "    .dataframe thead th {\n",
       "        text-align: right;\n",
       "    }\n",
       "</style>\n",
       "<table border=\"1\" class=\"dataframe\">\n",
       "  <thead>\n",
       "    <tr style=\"text-align: right;\">\n",
       "      <th></th>\n",
       "      <th>Model</th>\n",
       "      <th>VolumeReductionAtRecallTestPrintOut</th>\n",
       "      <th>ConstrainedVolumeReductionTestPrintOut</th>\n",
       "      <th>ConstrainedAUCTestPrintOut</th>\n",
       "    </tr>\n",
       "  </thead>\n",
       "  <tbody>\n",
       "    <tr>\n",
       "      <th>0</th>\n",
       "      <td>BRFC</td>\n",
       "      <td>0.796±0.064</td>\n",
       "      <td>0.423±0.396</td>\n",
       "      <td>0.305±0.19</td>\n",
       "    </tr>\n",
       "    <tr>\n",
       "      <th>4</th>\n",
       "      <td>RFC</td>\n",
       "      <td>0.901±0.042</td>\n",
       "      <td>0.611±0.416</td>\n",
       "      <td>0.5±0.169</td>\n",
       "    </tr>\n",
       "    <tr>\n",
       "      <th>8</th>\n",
       "      <td>XGBoost</td>\n",
       "      <td>0.925±0.038</td>\n",
       "      <td>0.16±0.324</td>\n",
       "      <td>0.626±0.12</td>\n",
       "    </tr>\n",
       "    <tr>\n",
       "      <th>12</th>\n",
       "      <td>kNN</td>\n",
       "      <td>0.475±0.344</td>\n",
       "      <td>0.227±0.339</td>\n",
       "      <td>0.079±0.091</td>\n",
       "    </tr>\n",
       "  </tbody>\n",
       "</table>\n",
       "</div>"
      ],
      "text/plain": [
       "      Model VolumeReductionAtRecallTestPrintOut  \\\n",
       "0      BRFC                         0.796±0.064   \n",
       "4       RFC                         0.901±0.042   \n",
       "8   XGBoost                         0.925±0.038   \n",
       "12      kNN                         0.475±0.344   \n",
       "\n",
       "   ConstrainedVolumeReductionTestPrintOut ConstrainedAUCTestPrintOut  \n",
       "0                             0.423±0.396                 0.305±0.19  \n",
       "4                             0.611±0.416                  0.5±0.169  \n",
       "8                              0.16±0.324                 0.626±0.12  \n",
       "12                            0.227±0.339                0.079±0.091  "
      ]
     },
     "execution_count": 37,
     "metadata": {},
     "output_type": "execute_result"
    }
   ],
   "source": [
    "tempdf=eval_df[[\"Model\",\"TargetMetric\",\"Threshold\"]+[c for c in eval_df.columns if \"PrintOut\" in c and \"Test\" in c]]\n",
    "tempdf=tempdf[tempdf[\"TargetMetric\"]==\"ConstrainedAUC\"]\n",
    "tempdf[tempdf[\"Threshold\"]==\"AdaptedThreshold\"][[\"Model\",\"VolumeReductionAtRecallTestPrintOut\",\"ConstrainedVolumeReductionTestPrintOut\",\"ConstrainedAUCTestPrintOut\"]]"
   ]
  },
  {
   "cell_type": "code",
   "execution_count": 38,
   "metadata": {},
   "outputs": [
    {
     "data": {
      "text/html": [
       "<div>\n",
       "<style scoped>\n",
       "    .dataframe tbody tr th:only-of-type {\n",
       "        vertical-align: middle;\n",
       "    }\n",
       "\n",
       "    .dataframe tbody tr th {\n",
       "        vertical-align: top;\n",
       "    }\n",
       "\n",
       "    .dataframe thead th {\n",
       "        text-align: right;\n",
       "    }\n",
       "</style>\n",
       "<table border=\"1\" class=\"dataframe\">\n",
       "  <thead>\n",
       "    <tr style=\"text-align: right;\">\n",
       "      <th></th>\n",
       "      <th>Model</th>\n",
       "      <th>TargetMetric</th>\n",
       "      <th>SlipTestPrintOut</th>\n",
       "      <th>RecallTestPrintOut</th>\n",
       "      <th>VolumeReductionTest PrintOut</th>\n",
       "    </tr>\n",
       "  </thead>\n",
       "  <tbody>\n",
       "    <tr>\n",
       "      <th>0</th>\n",
       "      <td>BRFC</td>\n",
       "      <td>ConstrainedAUC</td>\n",
       "      <td>0.008±0.006</td>\n",
       "      <td>0.992±0.006</td>\n",
       "      <td>0.797±0.03</td>\n",
       "    </tr>\n",
       "    <tr>\n",
       "      <th>2</th>\n",
       "      <td>BRFC</td>\n",
       "      <td>PrecisionRecallAUC</td>\n",
       "      <td>0.052±0.015</td>\n",
       "      <td>0.948±0.015</td>\n",
       "      <td>0.964±0.005</td>\n",
       "    </tr>\n",
       "    <tr>\n",
       "      <th>4</th>\n",
       "      <td>RFC</td>\n",
       "      <td>ConstrainedAUC</td>\n",
       "      <td>0.01±0.012</td>\n",
       "      <td>0.99±0.012</td>\n",
       "      <td>0.897±0.039</td>\n",
       "    </tr>\n",
       "    <tr>\n",
       "      <th>6</th>\n",
       "      <td>RFC</td>\n",
       "      <td>PrecisionRecallAUC</td>\n",
       "      <td>0.057±0.057</td>\n",
       "      <td>0.943±0.057</td>\n",
       "      <td>0.983±0.005</td>\n",
       "    </tr>\n",
       "    <tr>\n",
       "      <th>8</th>\n",
       "      <td>XGBoost</td>\n",
       "      <td>ConstrainedAUC</td>\n",
       "      <td>0.015±0.021</td>\n",
       "      <td>0.985±0.021</td>\n",
       "      <td>0.596±0.429</td>\n",
       "    </tr>\n",
       "    <tr>\n",
       "      <th>10</th>\n",
       "      <td>XGBoost</td>\n",
       "      <td>PrecisionRecallAUC</td>\n",
       "      <td>0.078±0.043</td>\n",
       "      <td>0.922±0.043</td>\n",
       "      <td>0.993±0.005</td>\n",
       "    </tr>\n",
       "    <tr>\n",
       "      <th>12</th>\n",
       "      <td>kNN</td>\n",
       "      <td>ConstrainedAUC</td>\n",
       "      <td>0.014±0.018</td>\n",
       "      <td>0.986±0.018</td>\n",
       "      <td>0.555±0.311</td>\n",
       "    </tr>\n",
       "    <tr>\n",
       "      <th>14</th>\n",
       "      <td>kNN</td>\n",
       "      <td>PrecisionRecallAUC</td>\n",
       "      <td>0.15±0.139</td>\n",
       "      <td>0.85±0.139</td>\n",
       "      <td>0.982±0.012</td>\n",
       "    </tr>\n",
       "  </tbody>\n",
       "</table>\n",
       "</div>"
      ],
      "text/plain": [
       "      Model        TargetMetric SlipTestPrintOut RecallTestPrintOut  \\\n",
       "0      BRFC      ConstrainedAUC      0.008±0.006        0.992±0.006   \n",
       "2      BRFC  PrecisionRecallAUC      0.052±0.015        0.948±0.015   \n",
       "4       RFC      ConstrainedAUC       0.01±0.012         0.99±0.012   \n",
       "6       RFC  PrecisionRecallAUC      0.057±0.057        0.943±0.057   \n",
       "8   XGBoost      ConstrainedAUC      0.015±0.021        0.985±0.021   \n",
       "10  XGBoost  PrecisionRecallAUC      0.078±0.043        0.922±0.043   \n",
       "12      kNN      ConstrainedAUC      0.014±0.018        0.986±0.018   \n",
       "14      kNN  PrecisionRecallAUC       0.15±0.139         0.85±0.139   \n",
       "\n",
       "   VolumeReductionTest PrintOut  \n",
       "0                    0.797±0.03  \n",
       "2                   0.964±0.005  \n",
       "4                   0.897±0.039  \n",
       "6                   0.983±0.005  \n",
       "8                   0.596±0.429  \n",
       "10                  0.993±0.005  \n",
       "12                  0.555±0.311  \n",
       "14                  0.982±0.012  "
      ]
     },
     "execution_count": 38,
     "metadata": {},
     "output_type": "execute_result"
    }
   ],
   "source": [
    "tempdf=eval_df[[\"Model\",\"TargetMetric\",\"Threshold\"]+[c for c in eval_df.columns if \"PrintOut\" in c and \"Test\" in c]]\n",
    "# tempdf=tempdf[tempdf[\"TargetMetric\"]==\"ConstrainedAUC\"]\n",
    "tempdf[tempdf[\"Threshold\"]==\"AdaptedThreshold\"][[\"Model\",\"TargetMetric\",\"SlipTestPrintOut\",\"RecallTestPrintOut\",\"VolumeReductionTest PrintOut\"]]#, \"AccuracyTestPrintOut\",\"F1ScoreTestPrintOut\",\"PrecisionRecallAUCTestPrintOut\",\"YoudenIndexTestPrintOut\",\"VolumeReductionAtRecallTestPrintOut\",\"ConstrainedVolumeReductionTestPrintOut\",\"ConstrainedAUCTestPrintOut\"]]"
   ]
  },
  {
   "cell_type": "code",
   "execution_count": 39,
   "metadata": {},
   "outputs": [
    {
     "data": {
      "text/html": [
       "<div>\n",
       "<style scoped>\n",
       "    .dataframe tbody tr th:only-of-type {\n",
       "        vertical-align: middle;\n",
       "    }\n",
       "\n",
       "    .dataframe tbody tr th {\n",
       "        vertical-align: top;\n",
       "    }\n",
       "\n",
       "    .dataframe thead th {\n",
       "        text-align: right;\n",
       "    }\n",
       "</style>\n",
       "<table border=\"1\" class=\"dataframe\">\n",
       "  <thead>\n",
       "    <tr style=\"text-align: right;\">\n",
       "      <th></th>\n",
       "      <th>Model</th>\n",
       "      <th>TargetMetric</th>\n",
       "      <th>Threshold</th>\n",
       "      <th>VolumeReductionEval0 PrintOut</th>\n",
       "      <th>VolumeReductionEval1 PrintOut</th>\n",
       "      <th>VolumeReductionEval2 PrintOut</th>\n",
       "      <th>VolumeReductionEval3 PrintOut</th>\n",
       "      <th>VolumeReductionEval4 PrintOut</th>\n",
       "    </tr>\n",
       "  </thead>\n",
       "  <tbody>\n",
       "    <tr>\n",
       "      <th>0</th>\n",
       "      <td>BRFC</td>\n",
       "      <td>ConstrainedAUC</td>\n",
       "      <td>AdaptedThreshold</td>\n",
       "      <td>0.675±0.045</td>\n",
       "      <td>0.487±0.066</td>\n",
       "      <td>0.653±0.066</td>\n",
       "      <td>0.78±0.043</td>\n",
       "      <td>0.415±0.057</td>\n",
       "    </tr>\n",
       "    <tr>\n",
       "      <th>4</th>\n",
       "      <td>RFC</td>\n",
       "      <td>ConstrainedAUC</td>\n",
       "      <td>AdaptedThreshold</td>\n",
       "      <td>0.667±0.084</td>\n",
       "      <td>0.524±0.122</td>\n",
       "      <td>0.654±0.092</td>\n",
       "      <td>0.76±0.083</td>\n",
       "      <td>0.397±0.123</td>\n",
       "    </tr>\n",
       "    <tr>\n",
       "      <th>8</th>\n",
       "      <td>XGBoost</td>\n",
       "      <td>ConstrainedAUC</td>\n",
       "      <td>AdaptedThreshold</td>\n",
       "      <td>0.598±0.429</td>\n",
       "      <td>0.53±0.395</td>\n",
       "      <td>0.601±0.43</td>\n",
       "      <td>0.615±0.438</td>\n",
       "      <td>0.537±0.393</td>\n",
       "    </tr>\n",
       "    <tr>\n",
       "      <th>12</th>\n",
       "      <td>kNN</td>\n",
       "      <td>ConstrainedAUC</td>\n",
       "      <td>AdaptedThreshold</td>\n",
       "      <td>0.473±0.267</td>\n",
       "      <td>0.36±0.223</td>\n",
       "      <td>0.465±0.268</td>\n",
       "      <td>0.526±0.301</td>\n",
       "      <td>0.279±0.215</td>\n",
       "    </tr>\n",
       "  </tbody>\n",
       "</table>\n",
       "</div>"
      ],
      "text/plain": [
       "      Model    TargetMetric         Threshold VolumeReductionEval0 PrintOut  \\\n",
       "0      BRFC  ConstrainedAUC  AdaptedThreshold                   0.675±0.045   \n",
       "4       RFC  ConstrainedAUC  AdaptedThreshold                   0.667±0.084   \n",
       "8   XGBoost  ConstrainedAUC  AdaptedThreshold                   0.598±0.429   \n",
       "12      kNN  ConstrainedAUC  AdaptedThreshold                   0.473±0.267   \n",
       "\n",
       "   VolumeReductionEval1 PrintOut VolumeReductionEval2 PrintOut  \\\n",
       "0                    0.487±0.066                   0.653±0.066   \n",
       "4                    0.524±0.122                   0.654±0.092   \n",
       "8                     0.53±0.395                    0.601±0.43   \n",
       "12                    0.36±0.223                   0.465±0.268   \n",
       "\n",
       "   VolumeReductionEval3 PrintOut VolumeReductionEval4 PrintOut  \n",
       "0                     0.78±0.043                   0.415±0.057  \n",
       "4                     0.76±0.083                   0.397±0.123  \n",
       "8                    0.615±0.438                   0.537±0.393  \n",
       "12                   0.526±0.301                   0.279±0.215  "
      ]
     },
     "execution_count": 39,
     "metadata": {},
     "output_type": "execute_result"
    }
   ],
   "source": [
    "tempdf=eval_df[[\"Model\",\"TargetMetric\",\"Threshold\"]+[c for c in eval_df.columns if \"PrintOut\" in c and \"Eval\" in c and \"VolumeReductionE\" in c and c[0]==\"V\"]]\n",
    "tempdf=tempdf[tempdf[\"TargetMetric\"]==\"ConstrainedAUC\"]\n",
    "tempdf[tempdf[\"Threshold\"]==\"AdaptedThreshold\"]#[[\"Model\",\"TargetMetric\",\"SlipTestPrintOut\",\"RecallTestPrintOut\",\"VolumeReductionTest PrintOut\"]]#, \"AccuracyTestPrintOut\",\"F1ScoreTestPrintOut\",\"PrecisionRecallAUCTestPrintOut\",\"YoudenIndexTestPrintOut\",\"VolumeReductionAtRecallTestPrintOut\",\"ConstrainedVolumeReductionTestPrintOut\",\"ConstrainedAUCTestPrintOut\"]]"
   ]
  },
  {
   "cell_type": "code",
   "execution_count": 40,
   "metadata": {},
   "outputs": [
    {
     "data": {
      "text/html": [
       "<div>\n",
       "<style scoped>\n",
       "    .dataframe tbody tr th:only-of-type {\n",
       "        vertical-align: middle;\n",
       "    }\n",
       "\n",
       "    .dataframe tbody tr th {\n",
       "        vertical-align: top;\n",
       "    }\n",
       "\n",
       "    .dataframe thead th {\n",
       "        text-align: right;\n",
       "    }\n",
       "</style>\n",
       "<table border=\"1\" class=\"dataframe\">\n",
       "  <thead>\n",
       "    <tr style=\"text-align: right;\">\n",
       "      <th></th>\n",
       "      <th>AccuracyTest</th>\n",
       "      <th>ConstrainedAUCTest</th>\n",
       "      <th>ConstrainedVolumeReductionTest</th>\n",
       "      <th>F1ScoreTest</th>\n",
       "      <th>PerfectThresholdTest</th>\n",
       "      <th>PrecisionRecallAUCTest</th>\n",
       "      <th>RecallTest</th>\n",
       "      <th>VolumeReductionAtRecallTest</th>\n",
       "      <th>VolumeReductionTest</th>\n",
       "      <th>YoudenIndexTest</th>\n",
       "      <th>Seed</th>\n",
       "    </tr>\n",
       "  </thead>\n",
       "  <tbody>\n",
       "    <tr>\n",
       "      <th>202</th>\n",
       "      <td>0.966408</td>\n",
       "      <td>0.320330</td>\n",
       "      <td>-0.041429</td>\n",
       "      <td>0.309846</td>\n",
       "      <td>0.042857</td>\n",
       "      <td>0.682190</td>\n",
       "      <td>0.948571</td>\n",
       "      <td>0.827167</td>\n",
       "      <td>0.966551</td>\n",
       "      <td>0.918190</td>\n",
       "      <td>42</td>\n",
       "    </tr>\n",
       "    <tr>\n",
       "      <th>82</th>\n",
       "      <td>0.874989</td>\n",
       "      <td>0.421015</td>\n",
       "      <td>-0.001429</td>\n",
       "      <td>0.111685</td>\n",
       "      <td>0.010076</td>\n",
       "      <td>0.791234</td>\n",
       "      <td>0.988571</td>\n",
       "      <td>0.855282</td>\n",
       "      <td>0.874078</td>\n",
       "      <td>0.927412</td>\n",
       "      <td>911</td>\n",
       "    </tr>\n",
       "    <tr>\n",
       "      <th>106</th>\n",
       "      <td>0.932407</td>\n",
       "      <td>0.337147</td>\n",
       "      <td>-0.001429</td>\n",
       "      <td>0.188659</td>\n",
       "      <td>0.011152</td>\n",
       "      <td>0.843557</td>\n",
       "      <td>0.988571</td>\n",
       "      <td>0.915495</td>\n",
       "      <td>0.931957</td>\n",
       "      <td>0.954747</td>\n",
       "      <td>525600</td>\n",
       "    </tr>\n",
       "    <tr>\n",
       "      <th>170</th>\n",
       "      <td>0.910035</td>\n",
       "      <td>0.321020</td>\n",
       "      <td>-0.001429</td>\n",
       "      <td>0.148721</td>\n",
       "      <td>0.019231</td>\n",
       "      <td>0.806064</td>\n",
       "      <td>0.988571</td>\n",
       "      <td>0.830670</td>\n",
       "      <td>0.909405</td>\n",
       "      <td>0.940292</td>\n",
       "      <td>300</td>\n",
       "    </tr>\n",
       "    <tr>\n",
       "      <th>34</th>\n",
       "      <td>0.856364</td>\n",
       "      <td>0.279056</td>\n",
       "      <td>0.855282</td>\n",
       "      <td>0.098889</td>\n",
       "      <td>0.058511</td>\n",
       "      <td>0.711181</td>\n",
       "      <td>0.991429</td>\n",
       "      <td>0.875132</td>\n",
       "      <td>0.855282</td>\n",
       "      <td>0.927728</td>\n",
       "      <td>42</td>\n",
       "    </tr>\n",
       "    <tr>\n",
       "      <th>42</th>\n",
       "      <td>0.887799</td>\n",
       "      <td>0.611009</td>\n",
       "      <td>0.886968</td>\n",
       "      <td>0.123181</td>\n",
       "      <td>0.026201</td>\n",
       "      <td>0.806242</td>\n",
       "      <td>0.991429</td>\n",
       "      <td>0.914740</td>\n",
       "      <td>0.886968</td>\n",
       "      <td>0.942214</td>\n",
       "      <td>101</td>\n",
       "    </tr>\n",
       "    <tr>\n",
       "      <th>50</th>\n",
       "      <td>0.932656</td>\n",
       "      <td>0.510936</td>\n",
       "      <td>0.932186</td>\n",
       "      <td>0.189669</td>\n",
       "      <td>0.023346</td>\n",
       "      <td>0.825381</td>\n",
       "      <td>0.991429</td>\n",
       "      <td>0.932186</td>\n",
       "      <td>0.932186</td>\n",
       "      <td>0.952444</td>\n",
       "      <td>300</td>\n",
       "    </tr>\n",
       "    <tr>\n",
       "      <th>66</th>\n",
       "      <td>0.908604</td>\n",
       "      <td>0.467775</td>\n",
       "      <td>0.907917</td>\n",
       "      <td>0.147458</td>\n",
       "      <td>0.035000</td>\n",
       "      <td>0.815317</td>\n",
       "      <td>0.994286</td>\n",
       "      <td>0.947296</td>\n",
       "      <td>0.907917</td>\n",
       "      <td>0.953849</td>\n",
       "      <td>404</td>\n",
       "    </tr>\n",
       "    <tr>\n",
       "      <th>90</th>\n",
       "      <td>0.925048</td>\n",
       "      <td>0.811837</td>\n",
       "      <td>0.924493</td>\n",
       "      <td>0.174174</td>\n",
       "      <td>0.029240</td>\n",
       "      <td>0.858816</td>\n",
       "      <td>0.994286</td>\n",
       "      <td>0.935643</td>\n",
       "      <td>0.924493</td>\n",
       "      <td>0.958131</td>\n",
       "      <td>1337</td>\n",
       "    </tr>\n",
       "    <tr>\n",
       "      <th>98</th>\n",
       "      <td>0.892637</td>\n",
       "      <td>0.491990</td>\n",
       "      <td>0.891822</td>\n",
       "      <td>0.128342</td>\n",
       "      <td>0.008798</td>\n",
       "      <td>0.800515</td>\n",
       "      <td>0.994286</td>\n",
       "      <td>0.891822</td>\n",
       "      <td>0.891822</td>\n",
       "      <td>0.932521</td>\n",
       "      <td>58008</td>\n",
       "    </tr>\n",
       "    <tr>\n",
       "      <th>58</th>\n",
       "      <td>0.913691</td>\n",
       "      <td>0.613754</td>\n",
       "      <td>0.913023</td>\n",
       "      <td>0.155180</td>\n",
       "      <td>0.028571</td>\n",
       "      <td>0.821537</td>\n",
       "      <td>0.997143</td>\n",
       "      <td>0.950456</td>\n",
       "      <td>0.913023</td>\n",
       "      <td>0.950961</td>\n",
       "      <td>322</td>\n",
       "    </tr>\n",
       "    <tr>\n",
       "      <th>186</th>\n",
       "      <td>0.815504</td>\n",
       "      <td>0.491354</td>\n",
       "      <td>0.814048</td>\n",
       "      <td>0.079129</td>\n",
       "      <td>0.043478</td>\n",
       "      <td>0.775388</td>\n",
       "      <td>0.997143</td>\n",
       "      <td>0.888319</td>\n",
       "      <td>0.814048</td>\n",
       "      <td>0.935576</td>\n",
       "      <td>101</td>\n",
       "    </tr>\n",
       "    <tr>\n",
       "      <th>74</th>\n",
       "      <td>0.858136</td>\n",
       "      <td>0.817839</td>\n",
       "      <td>0.856999</td>\n",
       "      <td>0.100777</td>\n",
       "      <td>0.030691</td>\n",
       "      <td>0.849999</td>\n",
       "      <td>1.000000</td>\n",
       "      <td>0.945693</td>\n",
       "      <td>0.856999</td>\n",
       "      <td>0.945951</td>\n",
       "      <td>420</td>\n",
       "    </tr>\n",
       "  </tbody>\n",
       "</table>\n",
       "</div>"
      ],
      "text/plain": [
       "     AccuracyTest  ConstrainedAUCTest  ConstrainedVolumeReductionTest  \\\n",
       "202      0.966408            0.320330                       -0.041429   \n",
       "82       0.874989            0.421015                       -0.001429   \n",
       "106      0.932407            0.337147                       -0.001429   \n",
       "170      0.910035            0.321020                       -0.001429   \n",
       "34       0.856364            0.279056                        0.855282   \n",
       "42       0.887799            0.611009                        0.886968   \n",
       "50       0.932656            0.510936                        0.932186   \n",
       "66       0.908604            0.467775                        0.907917   \n",
       "90       0.925048            0.811837                        0.924493   \n",
       "98       0.892637            0.491990                        0.891822   \n",
       "58       0.913691            0.613754                        0.913023   \n",
       "186      0.815504            0.491354                        0.814048   \n",
       "74       0.858136            0.817839                        0.856999   \n",
       "\n",
       "     F1ScoreTest  PerfectThresholdTest  PrecisionRecallAUCTest  RecallTest  \\\n",
       "202     0.309846              0.042857                0.682190    0.948571   \n",
       "82      0.111685              0.010076                0.791234    0.988571   \n",
       "106     0.188659              0.011152                0.843557    0.988571   \n",
       "170     0.148721              0.019231                0.806064    0.988571   \n",
       "34      0.098889              0.058511                0.711181    0.991429   \n",
       "42      0.123181              0.026201                0.806242    0.991429   \n",
       "50      0.189669              0.023346                0.825381    0.991429   \n",
       "66      0.147458              0.035000                0.815317    0.994286   \n",
       "90      0.174174              0.029240                0.858816    0.994286   \n",
       "98      0.128342              0.008798                0.800515    0.994286   \n",
       "58      0.155180              0.028571                0.821537    0.997143   \n",
       "186     0.079129              0.043478                0.775388    0.997143   \n",
       "74      0.100777              0.030691                0.849999    1.000000   \n",
       "\n",
       "     VolumeReductionAtRecallTest  VolumeReductionTest   YoudenIndexTest  \\\n",
       "202                     0.827167              0.966551         0.918190   \n",
       "82                      0.855282              0.874078         0.927412   \n",
       "106                     0.915495              0.931957         0.954747   \n",
       "170                     0.830670              0.909405         0.940292   \n",
       "34                      0.875132              0.855282         0.927728   \n",
       "42                      0.914740              0.886968         0.942214   \n",
       "50                      0.932186              0.932186         0.952444   \n",
       "66                      0.947296              0.907917         0.953849   \n",
       "90                      0.935643              0.924493         0.958131   \n",
       "98                      0.891822              0.891822         0.932521   \n",
       "58                      0.950456              0.913023         0.950961   \n",
       "186                     0.888319              0.814048         0.935576   \n",
       "74                      0.945693              0.856999         0.945951   \n",
       "\n",
       "       Seed  \n",
       "202      42  \n",
       "82      911  \n",
       "106  525600  \n",
       "170     300  \n",
       "34       42  \n",
       "42      101  \n",
       "50      300  \n",
       "66      404  \n",
       "90     1337  \n",
       "98    58008  \n",
       "58      322  \n",
       "186     101  \n",
       "74      420  "
      ]
     },
     "execution_count": 40,
     "metadata": {},
     "output_type": "execute_result"
    }
   ],
   "source": [
    "tdf=df.copy()\n",
    "tdf=tdf[tdf[\"Model\"]==\"RFC\"]\n",
    "tdf=tdf[tdf[\"TargetMetric\"]==\"ConstrainedAUC\"]\n",
    "tdf=tdf[tdf[\"AdaptThreshold\"]==True]\n",
    "tdf[[c for c in metric_columns if \"Test\" in c]+[\"Seed\"]].sort_values(by=\"RecallTest\")"
   ]
  },
  {
   "cell_type": "code",
   "execution_count": 41,
   "metadata": {},
   "outputs": [],
   "source": [
    "new_df_list=list()\n",
    "for model in np.unique(automl_df[\"Model\"]):\n",
    "    for threshold in np.unique(automl_df[\"Threshold\"]):\n",
    "        filtered_df=automl_df[automl_df[\"Model\"]==model]\n",
    "        filtered_df=filtered_df[filtered_df[\"Threshold\"]==threshold]\n",
    "        calculation_dict=dict()\n",
    "        calculation_dict[\"Model\"]=model\n",
    "        calculation_dict[\"Threshold\"]=threshold\n",
    "        for metric_column in metric_columns:\n",
    "            calculation_dict[metric_column+\"Std\"]=np.std(filtered_df[metric_column])\n",
    "            calculation_dict[metric_column+\"Mean\"]=np.mean(filtered_df[metric_column])\n",
    "            calculation_dict[metric_column+\"Max\"]=np.max(filtered_df[metric_column])\n",
    "            calculation_dict[metric_column+\"Min\"]=np.min(filtered_df[metric_column])\n",
    "            calculation_dict[metric_column+\"Median\"]=np.median(filtered_df[metric_column])\n",
    "            calculation_dict[metric_column+\"PrintOut\"]=str(np.round(np.mean(filtered_df[metric_column]),3)) +u\"\\u00B1\"+str(np.round(np.std(filtered_df[metric_column]),3))\n",
    "            if \"Recall\" in metric_column and metric_column[0]==\"R\":\n",
    "                calculation_dict[\"Slip\"+metric_column[6:]+\"Std\"]=np.std(filtered_df[metric_column])\n",
    "                calculation_dict[\"Slip\"+metric_column[6:]+\"Mean\"]=np.mean(filtered_df[metric_column])\n",
    "                calculation_dict[\"Slip\"+metric_column[6:]+\"PrintOut\"]=str(np.round(1-np.mean(filtered_df[metric_column]),3)) +u\"\\u00B1\"+str(np.round(np.std(filtered_df[metric_column]),3))\n",
    "        new_df_list.append(calculation_dict)\n",
    "automl_eval_df=pd.DataFrame.from_records(new_df_list)"
   ]
  },
  {
   "cell_type": "code",
   "execution_count": 42,
   "metadata": {},
   "outputs": [
    {
     "data": {
      "text/html": [
       "<div>\n",
       "<style scoped>\n",
       "    .dataframe tbody tr th:only-of-type {\n",
       "        vertical-align: middle;\n",
       "    }\n",
       "\n",
       "    .dataframe tbody tr th {\n",
       "        vertical-align: top;\n",
       "    }\n",
       "\n",
       "    .dataframe thead th {\n",
       "        text-align: right;\n",
       "    }\n",
       "</style>\n",
       "<table border=\"1\" class=\"dataframe\">\n",
       "  <thead>\n",
       "    <tr style=\"text-align: right;\">\n",
       "      <th></th>\n",
       "      <th>Model</th>\n",
       "      <th>Threshold</th>\n",
       "      <th>AccuracyEval0Std</th>\n",
       "      <th>AccuracyEval0Mean</th>\n",
       "      <th>AccuracyEval0Max</th>\n",
       "      <th>AccuracyEval0Min</th>\n",
       "      <th>AccuracyEval0Median</th>\n",
       "      <th>AccuracyEval0PrintOut</th>\n",
       "      <th>AccuracyEval1Std</th>\n",
       "      <th>AccuracyEval1Mean</th>\n",
       "      <th>...</th>\n",
       "      <th>YoudenIndexEval4Max</th>\n",
       "      <th>YoudenIndexEval4Min</th>\n",
       "      <th>YoudenIndexEval4Median</th>\n",
       "      <th>YoudenIndexEval4PrintOut</th>\n",
       "      <th>YoudenIndexTestStd</th>\n",
       "      <th>YoudenIndexTestMean</th>\n",
       "      <th>YoudenIndexTestMax</th>\n",
       "      <th>YoudenIndexTestMin</th>\n",
       "      <th>YoudenIndexTestMedian</th>\n",
       "      <th>YoudenIndexTestPrintOut</th>\n",
       "    </tr>\n",
       "  </thead>\n",
       "  <tbody>\n",
       "    <tr>\n",
       "      <th>0</th>\n",
       "      <td>AutoML</td>\n",
       "      <td>Default</td>\n",
       "      <td>0.000361</td>\n",
       "      <td>0.995905</td>\n",
       "      <td>0.996411</td>\n",
       "      <td>0.995389</td>\n",
       "      <td>0.995912</td>\n",
       "      <td>0.996±0.0</td>\n",
       "      <td>0.002946</td>\n",
       "      <td>0.996439</td>\n",
       "      <td>...</td>\n",
       "      <td>0.597711</td>\n",
       "      <td>0.511249</td>\n",
       "      <td>0.536132</td>\n",
       "      <td>0.543±0.022</td>\n",
       "      <td>0.005648</td>\n",
       "      <td>0.943565</td>\n",
       "      <td>0.952934</td>\n",
       "      <td>0.934546</td>\n",
       "      <td>0.942471</td>\n",
       "      <td>0.944±0.006</td>\n",
       "    </tr>\n",
       "    <tr>\n",
       "      <th>1</th>\n",
       "      <td>AutoML</td>\n",
       "      <td>VRS</td>\n",
       "      <td>0.199498</td>\n",
       "      <td>0.758516</td>\n",
       "      <td>0.993527</td>\n",
       "      <td>0.522588</td>\n",
       "      <td>0.704829</td>\n",
       "      <td>0.759±0.199</td>\n",
       "      <td>0.294015</td>\n",
       "      <td>0.650512</td>\n",
       "      <td>...</td>\n",
       "      <td>0.597711</td>\n",
       "      <td>0.511249</td>\n",
       "      <td>0.536132</td>\n",
       "      <td>0.543±0.022</td>\n",
       "      <td>0.005648</td>\n",
       "      <td>0.943565</td>\n",
       "      <td>0.952934</td>\n",
       "      <td>0.934546</td>\n",
       "      <td>0.942471</td>\n",
       "      <td>0.944±0.006</td>\n",
       "    </tr>\n",
       "    <tr>\n",
       "      <th>2</th>\n",
       "      <td>AutoML</td>\n",
       "      <td>YS</td>\n",
       "      <td>0.088701</td>\n",
       "      <td>0.888428</td>\n",
       "      <td>0.994458</td>\n",
       "      <td>0.778295</td>\n",
       "      <td>0.843380</td>\n",
       "      <td>0.888±0.089</td>\n",
       "      <td>0.106732</td>\n",
       "      <td>0.866948</td>\n",
       "      <td>...</td>\n",
       "      <td>0.597711</td>\n",
       "      <td>0.511249</td>\n",
       "      <td>0.536132</td>\n",
       "      <td>0.543±0.022</td>\n",
       "      <td>0.005648</td>\n",
       "      <td>0.943565</td>\n",
       "      <td>0.952934</td>\n",
       "      <td>0.934546</td>\n",
       "      <td>0.942471</td>\n",
       "      <td>0.944±0.006</td>\n",
       "    </tr>\n",
       "  </tbody>\n",
       "</table>\n",
       "<p>3 rows × 380 columns</p>\n",
       "</div>"
      ],
      "text/plain": [
       "    Model Threshold  AccuracyEval0Std  AccuracyEval0Mean  AccuracyEval0Max  \\\n",
       "0  AutoML   Default          0.000361           0.995905          0.996411   \n",
       "1  AutoML       VRS          0.199498           0.758516          0.993527   \n",
       "2  AutoML        YS          0.088701           0.888428          0.994458   \n",
       "\n",
       "   AccuracyEval0Min  AccuracyEval0Median AccuracyEval0PrintOut  \\\n",
       "0          0.995389             0.995912             0.996±0.0   \n",
       "1          0.522588             0.704829           0.759±0.199   \n",
       "2          0.778295             0.843380           0.888±0.089   \n",
       "\n",
       "   AccuracyEval1Std  AccuracyEval1Mean  ...  YoudenIndexEval4Max  \\\n",
       "0          0.002946           0.996439  ...             0.597711   \n",
       "1          0.294015           0.650512  ...             0.597711   \n",
       "2          0.106732           0.866948  ...             0.597711   \n",
       "\n",
       "   YoudenIndexEval4Min  YoudenIndexEval4Median YoudenIndexEval4PrintOut  \\\n",
       "0             0.511249                0.536132              0.543±0.022   \n",
       "1             0.511249                0.536132              0.543±0.022   \n",
       "2             0.511249                0.536132              0.543±0.022   \n",
       "\n",
       "   YoudenIndexTestStd  YoudenIndexTestMean  YoudenIndexTestMax  \\\n",
       "0            0.005648             0.943565            0.952934   \n",
       "1            0.005648             0.943565            0.952934   \n",
       "2            0.005648             0.943565            0.952934   \n",
       "\n",
       "   YoudenIndexTestMin  YoudenIndexTestMedian YoudenIndexTestPrintOut  \n",
       "0            0.934546               0.942471             0.944±0.006  \n",
       "1            0.934546               0.942471             0.944±0.006  \n",
       "2            0.934546               0.942471             0.944±0.006  \n",
       "\n",
       "[3 rows x 380 columns]"
      ]
     },
     "execution_count": 42,
     "metadata": {},
     "output_type": "execute_result"
    }
   ],
   "source": [
    "automl_eval_df"
   ]
  },
  {
   "cell_type": "code",
   "execution_count": 43,
   "metadata": {},
   "outputs": [
    {
     "data": {
      "text/html": [
       "<div>\n",
       "<style scoped>\n",
       "    .dataframe tbody tr th:only-of-type {\n",
       "        vertical-align: middle;\n",
       "    }\n",
       "\n",
       "    .dataframe tbody tr th {\n",
       "        vertical-align: top;\n",
       "    }\n",
       "\n",
       "    .dataframe thead th {\n",
       "        text-align: right;\n",
       "    }\n",
       "</style>\n",
       "<table border=\"1\" class=\"dataframe\">\n",
       "  <thead>\n",
       "    <tr style=\"text-align: right;\">\n",
       "      <th></th>\n",
       "      <th>Model</th>\n",
       "      <th>TargetMetric</th>\n",
       "      <th>SlipTestPrintOut</th>\n",
       "      <th>RecallTestPrintOut</th>\n",
       "      <th>VolumeReductionTest PrintOut</th>\n",
       "    </tr>\n",
       "  </thead>\n",
       "  <tbody>\n",
       "    <tr>\n",
       "      <th>0</th>\n",
       "      <td>BRFC</td>\n",
       "      <td>ConstrainedAUC</td>\n",
       "      <td>0.008±0.006</td>\n",
       "      <td>0.992±0.006</td>\n",
       "      <td>0.797±0.03</td>\n",
       "    </tr>\n",
       "    <tr>\n",
       "      <th>2</th>\n",
       "      <td>BRFC</td>\n",
       "      <td>PrecisionRecallAUC</td>\n",
       "      <td>0.052±0.015</td>\n",
       "      <td>0.948±0.015</td>\n",
       "      <td>0.964±0.005</td>\n",
       "    </tr>\n",
       "    <tr>\n",
       "      <th>4</th>\n",
       "      <td>RFC</td>\n",
       "      <td>ConstrainedAUC</td>\n",
       "      <td>0.01±0.012</td>\n",
       "      <td>0.99±0.012</td>\n",
       "      <td>0.897±0.039</td>\n",
       "    </tr>\n",
       "    <tr>\n",
       "      <th>6</th>\n",
       "      <td>RFC</td>\n",
       "      <td>PrecisionRecallAUC</td>\n",
       "      <td>0.057±0.057</td>\n",
       "      <td>0.943±0.057</td>\n",
       "      <td>0.983±0.005</td>\n",
       "    </tr>\n",
       "    <tr>\n",
       "      <th>8</th>\n",
       "      <td>XGBoost</td>\n",
       "      <td>ConstrainedAUC</td>\n",
       "      <td>0.015±0.021</td>\n",
       "      <td>0.985±0.021</td>\n",
       "      <td>0.596±0.429</td>\n",
       "    </tr>\n",
       "    <tr>\n",
       "      <th>10</th>\n",
       "      <td>XGBoost</td>\n",
       "      <td>PrecisionRecallAUC</td>\n",
       "      <td>0.078±0.043</td>\n",
       "      <td>0.922±0.043</td>\n",
       "      <td>0.993±0.005</td>\n",
       "    </tr>\n",
       "    <tr>\n",
       "      <th>12</th>\n",
       "      <td>kNN</td>\n",
       "      <td>ConstrainedAUC</td>\n",
       "      <td>0.014±0.018</td>\n",
       "      <td>0.986±0.018</td>\n",
       "      <td>0.555±0.311</td>\n",
       "    </tr>\n",
       "    <tr>\n",
       "      <th>14</th>\n",
       "      <td>kNN</td>\n",
       "      <td>PrecisionRecallAUC</td>\n",
       "      <td>0.15±0.139</td>\n",
       "      <td>0.85±0.139</td>\n",
       "      <td>0.982±0.012</td>\n",
       "    </tr>\n",
       "  </tbody>\n",
       "</table>\n",
       "</div>"
      ],
      "text/plain": [
       "      Model        TargetMetric SlipTestPrintOut RecallTestPrintOut  \\\n",
       "0      BRFC      ConstrainedAUC      0.008±0.006        0.992±0.006   \n",
       "2      BRFC  PrecisionRecallAUC      0.052±0.015        0.948±0.015   \n",
       "4       RFC      ConstrainedAUC       0.01±0.012         0.99±0.012   \n",
       "6       RFC  PrecisionRecallAUC      0.057±0.057        0.943±0.057   \n",
       "8   XGBoost      ConstrainedAUC      0.015±0.021        0.985±0.021   \n",
       "10  XGBoost  PrecisionRecallAUC      0.078±0.043        0.922±0.043   \n",
       "12      kNN      ConstrainedAUC      0.014±0.018        0.986±0.018   \n",
       "14      kNN  PrecisionRecallAUC       0.15±0.139         0.85±0.139   \n",
       "\n",
       "   VolumeReductionTest PrintOut  \n",
       "0                    0.797±0.03  \n",
       "2                   0.964±0.005  \n",
       "4                   0.897±0.039  \n",
       "6                   0.983±0.005  \n",
       "8                   0.596±0.429  \n",
       "10                  0.993±0.005  \n",
       "12                  0.555±0.311  \n",
       "14                  0.982±0.012  "
      ]
     },
     "execution_count": 43,
     "metadata": {},
     "output_type": "execute_result"
    }
   ],
   "source": [
    "tempdf=eval_df[[\"Model\",\"TargetMetric\",\"Threshold\"]+[c for c in eval_df.columns if \"PrintOut\" in c and \"Test\" in c]]\n",
    "tempdf[tempdf[\"Threshold\"]==\"AdaptedThreshold\"][[\"Model\",\"TargetMetric\",\"SlipTestPrintOut\",\"RecallTestPrintOut\",\"VolumeReductionTest PrintOut\"]]#, "
   ]
  },
  {
   "cell_type": "code",
   "execution_count": 44,
   "metadata": {},
   "outputs": [
    {
     "data": {
      "text/html": [
       "<div>\n",
       "<style scoped>\n",
       "    .dataframe tbody tr th:only-of-type {\n",
       "        vertical-align: middle;\n",
       "    }\n",
       "\n",
       "    .dataframe tbody tr th {\n",
       "        vertical-align: top;\n",
       "    }\n",
       "\n",
       "    .dataframe thead th {\n",
       "        text-align: right;\n",
       "    }\n",
       "</style>\n",
       "<table border=\"1\" class=\"dataframe\">\n",
       "  <thead>\n",
       "    <tr style=\"text-align: right;\">\n",
       "      <th></th>\n",
       "      <th>Model</th>\n",
       "      <th>Threshold</th>\n",
       "      <th>AccuracyTestPrintOut</th>\n",
       "      <th>F1ScoreTestPrintOut</th>\n",
       "      <th>PrecisionRecallAUCTestPrintOut</th>\n",
       "      <th>YoudenIndexTestPrintOut</th>\n",
       "      <th>VolumeReductionAtRecallTestPrintOut</th>\n",
       "      <th>ConstrainedVolumeReductionTestPrintOut</th>\n",
       "      <th>ConstrainedAUCTestPrintOut</th>\n",
       "      <th>SlipTestPrintOut</th>\n",
       "      <th>VolumeReductionTest PrintOut</th>\n",
       "    </tr>\n",
       "  </thead>\n",
       "  <tbody>\n",
       "    <tr>\n",
       "      <th>0</th>\n",
       "      <td>AutoML</td>\n",
       "      <td>Default</td>\n",
       "      <td>0.997±0.0</td>\n",
       "      <td>0.763±0.027</td>\n",
       "      <td>0.866±0.016</td>\n",
       "      <td>0.944±0.006</td>\n",
       "      <td>0.906±0.021</td>\n",
       "      <td>-0.336±0.039</td>\n",
       "      <td>0.497±0.136</td>\n",
       "      <td>0.346±0.039</td>\n",
       "      <td>1.0±0.0</td>\n",
       "    </tr>\n",
       "    <tr>\n",
       "      <th>1</th>\n",
       "      <td>AutoML</td>\n",
       "      <td>VRS</td>\n",
       "      <td>0.949±0.049</td>\n",
       "      <td>0.413±0.283</td>\n",
       "      <td>0.866±0.016</td>\n",
       "      <td>0.944±0.006</td>\n",
       "      <td>0.906±0.021</td>\n",
       "      <td>0.103±0.402</td>\n",
       "      <td>0.497±0.136</td>\n",
       "      <td>0.083±0.095</td>\n",
       "      <td>0.949±0.049</td>\n",
       "    </tr>\n",
       "    <tr>\n",
       "      <th>2</th>\n",
       "      <td>AutoML</td>\n",
       "      <td>YS</td>\n",
       "      <td>0.987±0.009</td>\n",
       "      <td>0.581±0.176</td>\n",
       "      <td>0.866±0.016</td>\n",
       "      <td>0.944±0.006</td>\n",
       "      <td>0.906±0.021</td>\n",
       "      <td>-0.103±0.089</td>\n",
       "      <td>0.497±0.136</td>\n",
       "      <td>0.113±0.089</td>\n",
       "      <td>0.988±0.01</td>\n",
       "    </tr>\n",
       "  </tbody>\n",
       "</table>\n",
       "</div>"
      ],
      "text/plain": [
       "    Model Threshold AccuracyTestPrintOut F1ScoreTestPrintOut  \\\n",
       "0  AutoML   Default            0.997±0.0         0.763±0.027   \n",
       "1  AutoML       VRS          0.949±0.049         0.413±0.283   \n",
       "2  AutoML        YS          0.987±0.009         0.581±0.176   \n",
       "\n",
       "  PrecisionRecallAUCTestPrintOut YoudenIndexTestPrintOut  \\\n",
       "0                    0.866±0.016             0.944±0.006   \n",
       "1                    0.866±0.016             0.944±0.006   \n",
       "2                    0.866±0.016             0.944±0.006   \n",
       "\n",
       "  VolumeReductionAtRecallTestPrintOut ConstrainedVolumeReductionTestPrintOut  \\\n",
       "0                         0.906±0.021                           -0.336±0.039   \n",
       "1                         0.906±0.021                            0.103±0.402   \n",
       "2                         0.906±0.021                           -0.103±0.089   \n",
       "\n",
       "  ConstrainedAUCTestPrintOut SlipTestPrintOut VolumeReductionTest PrintOut  \n",
       "0                0.497±0.136      0.346±0.039                      1.0±0.0  \n",
       "1                0.497±0.136      0.083±0.095                  0.949±0.049  \n",
       "2                0.497±0.136      0.113±0.089                   0.988±0.01  "
      ]
     },
     "execution_count": 44,
     "metadata": {},
     "output_type": "execute_result"
    }
   ],
   "source": [
    "tempdf=automl_eval_df[[\"Model\",\"Threshold\"]+[c for c in automl_eval_df.columns if \"PrintOut\" in c and \"Test\" in c]]\n",
    "# tempdf=tempdf[tempdf[\"TargetMetric\"]==\"ConstrainedAUC\"]\n",
    "tempdf[[\"Model\",\"Threshold\",\"AccuracyTestPrintOut\",\"F1ScoreTestPrintOut\",\"PrecisionRecallAUCTestPrintOut\",\"YoudenIndexTestPrintOut\",\"VolumeReductionAtRecallTestPrintOut\",\"ConstrainedVolumeReductionTestPrintOut\",\"ConstrainedAUCTestPrintOut\",\"SlipTestPrintOut\",\"VolumeReductionTest PrintOut\"]]"
   ]
  },
  {
   "cell_type": "code",
   "execution_count": 45,
   "metadata": {},
   "outputs": [
    {
     "data": {
      "text/html": [
       "<div>\n",
       "<style scoped>\n",
       "    .dataframe tbody tr th:only-of-type {\n",
       "        vertical-align: middle;\n",
       "    }\n",
       "\n",
       "    .dataframe tbody tr th {\n",
       "        vertical-align: top;\n",
       "    }\n",
       "\n",
       "    .dataframe thead th {\n",
       "        text-align: right;\n",
       "    }\n",
       "</style>\n",
       "<table border=\"1\" class=\"dataframe\">\n",
       "  <thead>\n",
       "    <tr style=\"text-align: right;\">\n",
       "      <th></th>\n",
       "      <th>Model</th>\n",
       "      <th>TargetMetric</th>\n",
       "      <th>Threshold</th>\n",
       "      <th>Symbol</th>\n",
       "      <th>AccuracyTestStd</th>\n",
       "      <th>AccuracyTestMean</th>\n",
       "      <th>ConstrainedAUCTestStd</th>\n",
       "      <th>ConstrainedAUCTestMean</th>\n",
       "      <th>ConstrainedVolumeReductionTestStd</th>\n",
       "      <th>ConstrainedVolumeReductionTestMean</th>\n",
       "      <th>...</th>\n",
       "      <th>RecallTestStd</th>\n",
       "      <th>RecallTestMean</th>\n",
       "      <th>SlipTestStd</th>\n",
       "      <th>SlipTestMean</th>\n",
       "      <th>VolumeReductionAtRecallTestStd</th>\n",
       "      <th>VolumeReductionAtRecallTestMean</th>\n",
       "      <th>VolumeReductionTest Std</th>\n",
       "      <th>VolumeReductionTest Mean</th>\n",
       "      <th>YoudenIndexTestStd</th>\n",
       "      <th>YoudenIndexTestMean</th>\n",
       "    </tr>\n",
       "  </thead>\n",
       "  <tbody>\n",
       "    <tr>\n",
       "      <th>0</th>\n",
       "      <td>BRFC</td>\n",
       "      <td>ConstrainedAUC</td>\n",
       "      <td>AdaptedThreshold</td>\n",
       "      <td>D1</td>\n",
       "      <td>0.029930</td>\n",
       "      <td>0.798763</td>\n",
       "      <td>0.189591</td>\n",
       "      <td>0.304741</td>\n",
       "      <td>0.396085</td>\n",
       "      <td>0.423342</td>\n",
       "      <td>...</td>\n",
       "      <td>0.005873</td>\n",
       "      <td>0.991648</td>\n",
       "      <td>0.005873</td>\n",
       "      <td>0.991648</td>\n",
       "      <td>0.063589</td>\n",
       "      <td>0.795540</td>\n",
       "      <td>0.030189</td>\n",
       "      <td>0.797217</td>\n",
       "      <td>0.012464</td>\n",
       "      <td>0.917880</td>\n",
       "    </tr>\n",
       "    <tr>\n",
       "      <th>1</th>\n",
       "      <td>BRFC</td>\n",
       "      <td>PrecisionRecallAUC</td>\n",
       "      <td>AdaptedThreshold</td>\n",
       "      <td>S1</td>\n",
       "      <td>0.005142</td>\n",
       "      <td>0.964117</td>\n",
       "      <td>0.185472</td>\n",
       "      <td>0.306508</td>\n",
       "      <td>0.015042</td>\n",
       "      <td>-0.042088</td>\n",
       "      <td>...</td>\n",
       "      <td>0.015042</td>\n",
       "      <td>0.947912</td>\n",
       "      <td>0.015042</td>\n",
       "      <td>0.947912</td>\n",
       "      <td>0.071811</td>\n",
       "      <td>0.803696</td>\n",
       "      <td>0.005236</td>\n",
       "      <td>0.964247</td>\n",
       "      <td>0.012902</td>\n",
       "      <td>0.919143</td>\n",
       "    </tr>\n",
       "    <tr>\n",
       "      <th>2</th>\n",
       "      <td>RFC</td>\n",
       "      <td>ConstrainedAUC</td>\n",
       "      <td>AdaptedThreshold</td>\n",
       "      <td>D3</td>\n",
       "      <td>0.038321</td>\n",
       "      <td>0.898021</td>\n",
       "      <td>0.168868</td>\n",
       "      <td>0.499620</td>\n",
       "      <td>0.415851</td>\n",
       "      <td>0.610540</td>\n",
       "      <td>...</td>\n",
       "      <td>0.012355</td>\n",
       "      <td>0.989670</td>\n",
       "      <td>0.012355</td>\n",
       "      <td>0.989670</td>\n",
       "      <td>0.041657</td>\n",
       "      <td>0.900762</td>\n",
       "      <td>0.038686</td>\n",
       "      <td>0.897287</td>\n",
       "      <td>0.012035</td>\n",
       "      <td>0.941540</td>\n",
       "    </tr>\n",
       "    <tr>\n",
       "      <th>3</th>\n",
       "      <td>RFC</td>\n",
       "      <td>PrecisionRecallAUC</td>\n",
       "      <td>AdaptedThreshold</td>\n",
       "      <td>S3</td>\n",
       "      <td>0.004957</td>\n",
       "      <td>0.983007</td>\n",
       "      <td>0.239163</td>\n",
       "      <td>0.338872</td>\n",
       "      <td>0.056751</td>\n",
       "      <td>-0.046923</td>\n",
       "      <td>...</td>\n",
       "      <td>0.056751</td>\n",
       "      <td>0.943077</td>\n",
       "      <td>0.056751</td>\n",
       "      <td>0.943077</td>\n",
       "      <td>0.328309</td>\n",
       "      <td>0.764847</td>\n",
       "      <td>0.005381</td>\n",
       "      <td>0.983327</td>\n",
       "      <td>0.010085</td>\n",
       "      <td>0.947779</td>\n",
       "    </tr>\n",
       "    <tr>\n",
       "      <th>4</th>\n",
       "      <td>XGBoost</td>\n",
       "      <td>ConstrainedAUC</td>\n",
       "      <td>AdaptedThreshold</td>\n",
       "      <td>D4</td>\n",
       "      <td>0.425193</td>\n",
       "      <td>0.599217</td>\n",
       "      <td>0.120315</td>\n",
       "      <td>0.626158</td>\n",
       "      <td>0.324008</td>\n",
       "      <td>0.160295</td>\n",
       "      <td>...</td>\n",
       "      <td>0.020725</td>\n",
       "      <td>0.985079</td>\n",
       "      <td>0.020725</td>\n",
       "      <td>0.985079</td>\n",
       "      <td>0.038133</td>\n",
       "      <td>0.925009</td>\n",
       "      <td>0.428704</td>\n",
       "      <td>0.596125</td>\n",
       "      <td>0.013087</td>\n",
       "      <td>0.952718</td>\n",
       "    </tr>\n",
       "    <tr>\n",
       "      <th>5</th>\n",
       "      <td>XGBoost</td>\n",
       "      <td>PrecisionRecallAUC</td>\n",
       "      <td>AdaptedThreshold</td>\n",
       "      <td>S4</td>\n",
       "      <td>0.004527</td>\n",
       "      <td>0.992805</td>\n",
       "      <td>0.151748</td>\n",
       "      <td>0.573840</td>\n",
       "      <td>0.043249</td>\n",
       "      <td>-0.068413</td>\n",
       "      <td>...</td>\n",
       "      <td>0.043249</td>\n",
       "      <td>0.921587</td>\n",
       "      <td>0.043249</td>\n",
       "      <td>0.921587</td>\n",
       "      <td>0.051289</td>\n",
       "      <td>0.923076</td>\n",
       "      <td>0.004849</td>\n",
       "      <td>0.993376</td>\n",
       "      <td>0.012972</td>\n",
       "      <td>0.958960</td>\n",
       "    </tr>\n",
       "    <tr>\n",
       "      <th>6</th>\n",
       "      <td>kNN</td>\n",
       "      <td>ConstrainedAUC</td>\n",
       "      <td>AdaptedThreshold</td>\n",
       "      <td>D2</td>\n",
       "      <td>0.308287</td>\n",
       "      <td>0.558412</td>\n",
       "      <td>0.090910</td>\n",
       "      <td>0.078582</td>\n",
       "      <td>0.338957</td>\n",
       "      <td>0.226791</td>\n",
       "      <td>...</td>\n",
       "      <td>0.017664</td>\n",
       "      <td>0.985714</td>\n",
       "      <td>0.017664</td>\n",
       "      <td>0.985714</td>\n",
       "      <td>0.343804</td>\n",
       "      <td>0.474615</td>\n",
       "      <td>0.310847</td>\n",
       "      <td>0.554988</td>\n",
       "      <td>0.030588</td>\n",
       "      <td>0.853252</td>\n",
       "    </tr>\n",
       "    <tr>\n",
       "      <th>7</th>\n",
       "      <td>kNN</td>\n",
       "      <td>PrecisionRecallAUC</td>\n",
       "      <td>AdaptedThreshold</td>\n",
       "      <td>S2</td>\n",
       "      <td>0.011422</td>\n",
       "      <td>0.981065</td>\n",
       "      <td>0.025709</td>\n",
       "      <td>-0.044172</td>\n",
       "      <td>0.139022</td>\n",
       "      <td>-0.140476</td>\n",
       "      <td>...</td>\n",
       "      <td>0.139022</td>\n",
       "      <td>0.849524</td>\n",
       "      <td>0.139022</td>\n",
       "      <td>0.849524</td>\n",
       "      <td>0.000000</td>\n",
       "      <td>0.000000</td>\n",
       "      <td>0.012309</td>\n",
       "      <td>0.982119</td>\n",
       "      <td>0.036004</td>\n",
       "      <td>0.878619</td>\n",
       "    </tr>\n",
       "    <tr>\n",
       "      <th>8</th>\n",
       "      <td>AutoML</td>\n",
       "      <td>NaN</td>\n",
       "      <td>VRS</td>\n",
       "      <td>A2</td>\n",
       "      <td>0.048533</td>\n",
       "      <td>0.948878</td>\n",
       "      <td>0.135632</td>\n",
       "      <td>0.496780</td>\n",
       "      <td>0.401529</td>\n",
       "      <td>0.102991</td>\n",
       "      <td>...</td>\n",
       "      <td>0.095456</td>\n",
       "      <td>0.917143</td>\n",
       "      <td>0.095456</td>\n",
       "      <td>0.917143</td>\n",
       "      <td>0.021467</td>\n",
       "      <td>0.906365</td>\n",
       "      <td>0.049495</td>\n",
       "      <td>0.949132</td>\n",
       "      <td>0.005648</td>\n",
       "      <td>0.943565</td>\n",
       "    </tr>\n",
       "    <tr>\n",
       "      <th>9</th>\n",
       "      <td>AutoML</td>\n",
       "      <td>NaN</td>\n",
       "      <td>YS</td>\n",
       "      <td>A1</td>\n",
       "      <td>0.008858</td>\n",
       "      <td>0.986813</td>\n",
       "      <td>0.135632</td>\n",
       "      <td>0.496780</td>\n",
       "      <td>0.089098</td>\n",
       "      <td>-0.102857</td>\n",
       "      <td>...</td>\n",
       "      <td>0.089098</td>\n",
       "      <td>0.887143</td>\n",
       "      <td>0.089098</td>\n",
       "      <td>0.887143</td>\n",
       "      <td>0.021467</td>\n",
       "      <td>0.906365</td>\n",
       "      <td>0.009562</td>\n",
       "      <td>0.987612</td>\n",
       "      <td>0.005648</td>\n",
       "      <td>0.943565</td>\n",
       "    </tr>\n",
       "    <tr>\n",
       "      <th>10</th>\n",
       "      <td>DummyModel</td>\n",
       "      <td>PrecisionRecallAUC</td>\n",
       "      <td>DefaultThreshold</td>\n",
       "      <td>DC1</td>\n",
       "      <td>0.000000</td>\n",
       "      <td>0.992051</td>\n",
       "      <td>0.000000</td>\n",
       "      <td>-1.000000</td>\n",
       "      <td>0.000000</td>\n",
       "      <td>-0.990000</td>\n",
       "      <td>...</td>\n",
       "      <td>0.000000</td>\n",
       "      <td>0.000000</td>\n",
       "      <td>0.000000</td>\n",
       "      <td>0.000000</td>\n",
       "      <td>0.000000</td>\n",
       "      <td>0.000000</td>\n",
       "      <td>0.000000</td>\n",
       "      <td>1.000000</td>\n",
       "      <td>0.000000</td>\n",
       "      <td>0.000000</td>\n",
       "    </tr>\n",
       "  </tbody>\n",
       "</table>\n",
       "<p>11 rows × 26 columns</p>\n",
       "</div>"
      ],
      "text/plain": [
       "         Model        TargetMetric         Threshold Symbol  AccuracyTestStd  \\\n",
       "0         BRFC      ConstrainedAUC  AdaptedThreshold     D1         0.029930   \n",
       "1         BRFC  PrecisionRecallAUC  AdaptedThreshold     S1         0.005142   \n",
       "2          RFC      ConstrainedAUC  AdaptedThreshold     D3         0.038321   \n",
       "3          RFC  PrecisionRecallAUC  AdaptedThreshold     S3         0.004957   \n",
       "4      XGBoost      ConstrainedAUC  AdaptedThreshold     D4         0.425193   \n",
       "5      XGBoost  PrecisionRecallAUC  AdaptedThreshold     S4         0.004527   \n",
       "6          kNN      ConstrainedAUC  AdaptedThreshold     D2         0.308287   \n",
       "7          kNN  PrecisionRecallAUC  AdaptedThreshold     S2         0.011422   \n",
       "8       AutoML                 NaN               VRS     A2         0.048533   \n",
       "9       AutoML                 NaN                YS     A1         0.008858   \n",
       "10  DummyModel  PrecisionRecallAUC  DefaultThreshold    DC1         0.000000   \n",
       "\n",
       "    AccuracyTestMean  ConstrainedAUCTestStd  ConstrainedAUCTestMean  \\\n",
       "0           0.798763               0.189591                0.304741   \n",
       "1           0.964117               0.185472                0.306508   \n",
       "2           0.898021               0.168868                0.499620   \n",
       "3           0.983007               0.239163                0.338872   \n",
       "4           0.599217               0.120315                0.626158   \n",
       "5           0.992805               0.151748                0.573840   \n",
       "6           0.558412               0.090910                0.078582   \n",
       "7           0.981065               0.025709               -0.044172   \n",
       "8           0.948878               0.135632                0.496780   \n",
       "9           0.986813               0.135632                0.496780   \n",
       "10          0.992051               0.000000               -1.000000   \n",
       "\n",
       "    ConstrainedVolumeReductionTestStd  ConstrainedVolumeReductionTestMean  \\\n",
       "0                            0.396085                            0.423342   \n",
       "1                            0.015042                           -0.042088   \n",
       "2                            0.415851                            0.610540   \n",
       "3                            0.056751                           -0.046923   \n",
       "4                            0.324008                            0.160295   \n",
       "5                            0.043249                           -0.068413   \n",
       "6                            0.338957                            0.226791   \n",
       "7                            0.139022                           -0.140476   \n",
       "8                            0.401529                            0.102991   \n",
       "9                            0.089098                           -0.102857   \n",
       "10                           0.000000                           -0.990000   \n",
       "\n",
       "    ...  RecallTestStd  RecallTestMean  SlipTestStd  SlipTestMean  \\\n",
       "0   ...       0.005873        0.991648     0.005873      0.991648   \n",
       "1   ...       0.015042        0.947912     0.015042      0.947912   \n",
       "2   ...       0.012355        0.989670     0.012355      0.989670   \n",
       "3   ...       0.056751        0.943077     0.056751      0.943077   \n",
       "4   ...       0.020725        0.985079     0.020725      0.985079   \n",
       "5   ...       0.043249        0.921587     0.043249      0.921587   \n",
       "6   ...       0.017664        0.985714     0.017664      0.985714   \n",
       "7   ...       0.139022        0.849524     0.139022      0.849524   \n",
       "8   ...       0.095456        0.917143     0.095456      0.917143   \n",
       "9   ...       0.089098        0.887143     0.089098      0.887143   \n",
       "10  ...       0.000000        0.000000     0.000000      0.000000   \n",
       "\n",
       "    VolumeReductionAtRecallTestStd  VolumeReductionAtRecallTestMean  \\\n",
       "0                         0.063589                         0.795540   \n",
       "1                         0.071811                         0.803696   \n",
       "2                         0.041657                         0.900762   \n",
       "3                         0.328309                         0.764847   \n",
       "4                         0.038133                         0.925009   \n",
       "5                         0.051289                         0.923076   \n",
       "6                         0.343804                         0.474615   \n",
       "7                         0.000000                         0.000000   \n",
       "8                         0.021467                         0.906365   \n",
       "9                         0.021467                         0.906365   \n",
       "10                        0.000000                         0.000000   \n",
       "\n",
       "    VolumeReductionTest Std  VolumeReductionTest Mean  YoudenIndexTestStd  \\\n",
       "0                  0.030189                  0.797217            0.012464   \n",
       "1                  0.005236                  0.964247            0.012902   \n",
       "2                  0.038686                  0.897287            0.012035   \n",
       "3                  0.005381                  0.983327            0.010085   \n",
       "4                  0.428704                  0.596125            0.013087   \n",
       "5                  0.004849                  0.993376            0.012972   \n",
       "6                  0.310847                  0.554988            0.030588   \n",
       "7                  0.012309                  0.982119            0.036004   \n",
       "8                  0.049495                  0.949132            0.005648   \n",
       "9                  0.009562                  0.987612            0.005648   \n",
       "10                 0.000000                  1.000000            0.000000   \n",
       "\n",
       "    YoudenIndexTestMean  \n",
       "0              0.917880  \n",
       "1              0.919143  \n",
       "2              0.941540  \n",
       "3              0.947779  \n",
       "4              0.952718  \n",
       "5              0.958960  \n",
       "6              0.853252  \n",
       "7              0.878619  \n",
       "8              0.943565  \n",
       "9              0.943565  \n",
       "10             0.000000  \n",
       "\n",
       "[11 rows x 26 columns]"
      ]
     },
     "execution_count": 45,
     "metadata": {},
     "output_type": "execute_result"
    }
   ],
   "source": [
    "number_dict=dict(RFC=\"3\",BRFC=\"1\",kNN=\"2\",XGBoost=\"4\")\n",
    "eval_df[\"Letter\"]= [\"S\" if target==\"PrecisionRecallAUC\" else \"D\" for target in eval_df[\"TargetMetric\"]]\n",
    "eval_df[\"Number\"]= [number_dict[model] for model in eval_df[\"Model\"]]\n",
    "eval_df[\"Symbol\"]=eval_df[\"Letter\"]+eval_df[\"Number\"]\n",
    "\n",
    "automl_eval_df[\"Symbol\"]= [\"A1\" if target==\"YS\" else \"A2\" for target in automl_eval_df[\"Threshold\"]]\n",
    "dummy_eval_df[\"Symbol\"]=\"DC1\"\n",
    "\n",
    "plot_df=pd.concat([eval_df,automl_eval_df],ignore_index=True)\n",
    "mask=[element==\"AdaptedThreshold\" or element==\"VRS\" or element==\"YS\" for element in plot_df[\"Threshold\"]]\n",
    "plot_df=plot_df[mask]\n",
    "plot_df=pd.concat([plot_df,dummy_eval_df],ignore_index=True)\n",
    "\n",
    "mask=[\"Model\", \"TargetMetric\",\"Threshold\",\"Symbol\"] + [c for c in plot_df.columns if \"Test\" in c and (\"Mean\" in c or \"Std\" in c)]\n",
    "plot_df=plot_df[mask]\n",
    "\n",
    "mean_cols=['AccuracyTestMean',\n",
    " 'F1ScoreTestMean',\n",
    " 'PrecisionRecallAUCTestMean',\n",
    " 'YoudenIndexTestMean',\n",
    " 'ConstrainedVolumeReductionTestMean',\n",
    " 'VolumeReductionAtRecallTestMean',\n",
    " 'ConstrainedAUCTestMean',\n",
    " 'SlipTestMean',\n",
    " 'VolumeReductionTest Mean',\n",
    " ]\n",
    "std_cols=['AccuracyTestStd',\n",
    " 'F1ScoreTestStd',\n",
    " 'PrecisionRecallAUCTestStd',\n",
    " 'ConstrainedVolumeReductionTestStd',\n",
    " 'VolumeReductionAtRecallTestStd',\n",
    " 'ConstrainedAUCTestStd',\n",
    " 'SlipTestStd',\n",
    " 'VolumeReductionTest Std',\n",
    " 'YoudenIndexTestStd']\n",
    "labels=['Accuracy',\n",
    " 'F1-Score',\n",
    " 'PRC',\n",
    " 'Youden Score',\n",
    " 'cV',\n",
    " 'V@S',\n",
    " 'cAUC',\n",
    " 'Slip rate',\n",
    " 'Volume Reduction']\n",
    "plot_df"
   ]
  },
  {
   "cell_type": "code",
   "execution_count": 46,
   "metadata": {},
   "outputs": [],
   "source": [
    "import plotly.express as px\n",
    "import plotly.graph_objects as go\n",
    "import sys\n",
    "sys.path.insert(0,'..')\n",
    "from plotly.subplots import make_subplots"
   ]
  },
  {
   "cell_type": "code",
   "execution_count": 47,
   "metadata": {},
   "outputs": [
    {
     "data": {
      "application/vnd.plotly.v1+json": {
       "config": {
        "plotlyServerURL": "https://plot.ly"
       },
       "data": [
        {
         "name": "D1",
         "type": "bar",
         "x": [
          "Accuracy",
          "F1-Score",
          "PRC",
          "Youden Score",
          "cV",
          "V@S",
          "cAUC",
          "Slip rate",
          "Volume Reduction"
         ],
         "y": [
          0.7987626755002062,
          0.07401244380513354,
          0.7038593268433797,
          0.9178797382845187,
          0.42334223128398685,
          0.7955404410599247,
          0.30474090076568633,
          0.9916483516483516,
          0.797217046427175
         ]
        },
        {
         "name": "S1",
         "type": "bar",
         "x": [
          "Accuracy",
          "F1-Score",
          "PRC",
          "Youden Score",
          "cV",
          "V@S",
          "cAUC",
          "Slip rate",
          "Volume Reduction"
         ],
         "y": [
          0.9641172400779923,
          0.2986879612128439,
          0.7133620881990261,
          0.9191432003135834,
          -0.04208791208791206,
          0.8036962808243544,
          0.30650789650898314,
          0.947912087912088,
          0.9642470949994189
         ]
        },
        {
         "name": "D3",
         "type": "bar",
         "x": [
          "Accuracy",
          "F1-Score",
          "PRC",
          "Youden Score",
          "cV",
          "V@S",
          "cAUC",
          "Slip rate",
          "Volume Reduction"
         ],
         "y": [
          0.8980211893130947,
          0.15043925892641516,
          0.799032421198022,
          0.9415396893046969,
          0.610540232239028,
          0.9007615169756295,
          0.4996201872775137,
          0.9896703296703298,
          0.8972867875748045
         ]
        },
        {
         "name": "S3",
         "type": "bar",
         "x": [
          "Accuracy",
          "F1-Score",
          "PRC",
          "Youden Score",
          "cV",
          "V@S",
          "cAUC",
          "Slip rate",
          "Volume Reduction"
         ],
         "y": [
          0.9830073170220351,
          0.4854338323796533,
          0.8419977038791532,
          0.9477793080128352,
          -0.04692307692307687,
          0.764847291542653,
          0.3388715713661695,
          0.9430769230769229,
          0.983327286752352
         ]
        },
        {
         "name": "D4",
         "type": "bar",
         "x": [
          "Accuracy",
          "F1-Score",
          "PRC",
          "Youden Score",
          "cV",
          "V@S",
          "cAUC",
          "Slip rate",
          "Volume Reduction"
         ],
         "y": [
          0.5992171648344993,
          0.18547105521491256,
          0.8717682673855605,
          0.952718414777117,
          0.16029523417041164,
          0.9250092851219276,
          0.6261579146669662,
          0.9850793650793652,
          0.5961251787067988
         ]
        },
        {
         "name": "S4",
         "type": "bar",
         "x": [
          "Accuracy",
          "F1-Score",
          "PRC",
          "Youden Score",
          "cV",
          "V@S",
          "cAUC",
          "Slip rate",
          "Volume Reduction"
         ],
         "y": [
          0.9928050836336474,
          0.6992972018018979,
          0.9091016094117076,
          0.9589599500529489,
          -0.06841269841269836,
          0.923075944665761,
          0.5738399775557791,
          0.9215873015873017,
          0.9933757650686081
         ]
        },
        {
         "name": "D2",
         "type": "bar",
         "x": [
          "Accuracy",
          "F1-Score",
          "PRC",
          "Youden Score",
          "cV",
          "V@S",
          "cAUC",
          "Slip rate",
          "Volume Reduction"
         ],
         "y": [
          0.5584123234709225,
          0.056500434981386745,
          0.521415196803504,
          0.8532515806511868,
          0.22679137439428665,
          0.4746147310367284,
          0.07858248166339882,
          0.9857142857142858,
          0.5549882727638119
         ]
        },
        {
         "name": "S2",
         "type": "bar",
         "x": [
          "Accuracy",
          "F1-Score",
          "PRC",
          "Youden Score",
          "cV",
          "V@S",
          "cAUC",
          "Slip rate",
          "Volume Reduction"
         ],
         "y": [
          0.9810650797977044,
          0.4725504356576323,
          0.7392228976879233,
          0.8786189262401544,
          -0.14047619047619045,
          0,
          -0.044171877505210795,
          0.8495238095238095,
          0.9821191446494804
         ]
        },
        {
         "name": "A2",
         "type": "bar",
         "x": [
          "Accuracy",
          "F1-Score",
          "PRC",
          "Youden Score",
          "cV",
          "V@S",
          "cAUC",
          "Slip rate",
          "Volume Reduction"
         ],
         "y": [
          0.9488779867357137,
          0.4129507896018506,
          0.8663369843959396,
          0.9435647629077731,
          0.10299117568177511,
          0.9063647602912221,
          0.49677979085587526,
          0.917142857142857,
          0.9491322862768442
         ]
        },
        {
         "name": "A1",
         "type": "bar",
         "x": [
          "Accuracy",
          "F1-Score",
          "PRC",
          "Youden Score",
          "cV",
          "V@S",
          "cAUC",
          "Slip rate",
          "Volume Reduction"
         ],
         "y": [
          0.9868129372217679,
          0.5811444870772023,
          0.8663369843959396,
          0.9435647629077731,
          -0.10285714285714283,
          0.9063647602912221,
          0.49677979085587526,
          0.8871428571428572,
          0.9876116122533082
         ]
        },
        {
         "name": "DC1",
         "type": "bar",
         "x": [
          "Accuracy",
          "F1-Score",
          "PRC",
          "Youden Score",
          "cV",
          "V@S",
          "cAUC",
          "Slip rate",
          "Volume Reduction"
         ],
         "y": [
          0.992050513309712,
          0,
          0.503974743345144,
          0,
          -0.99,
          0,
          -1,
          0,
          1
         ]
        }
       ],
       "layout": {
        "height": 400,
        "legend": {
         "orientation": "h",
         "x": 0.05,
         "y": 1.04
        },
        "margin": {
         "b": 0,
         "l": 0,
         "r": 0,
         "t": 30
        },
        "template": {
         "data": {
          "bar": [
           {
            "error_x": {
             "color": "#2a3f5f"
            },
            "error_y": {
             "color": "#2a3f5f"
            },
            "marker": {
             "line": {
              "color": "#E5ECF6",
              "width": 0.5
             },
             "pattern": {
              "fillmode": "overlay",
              "size": 10,
              "solidity": 0.2
             }
            },
            "type": "bar"
           }
          ],
          "barpolar": [
           {
            "marker": {
             "line": {
              "color": "#E5ECF6",
              "width": 0.5
             },
             "pattern": {
              "fillmode": "overlay",
              "size": 10,
              "solidity": 0.2
             }
            },
            "type": "barpolar"
           }
          ],
          "carpet": [
           {
            "aaxis": {
             "endlinecolor": "#2a3f5f",
             "gridcolor": "white",
             "linecolor": "white",
             "minorgridcolor": "white",
             "startlinecolor": "#2a3f5f"
            },
            "baxis": {
             "endlinecolor": "#2a3f5f",
             "gridcolor": "white",
             "linecolor": "white",
             "minorgridcolor": "white",
             "startlinecolor": "#2a3f5f"
            },
            "type": "carpet"
           }
          ],
          "choropleth": [
           {
            "colorbar": {
             "outlinewidth": 0,
             "ticks": ""
            },
            "type": "choropleth"
           }
          ],
          "contour": [
           {
            "colorbar": {
             "outlinewidth": 0,
             "ticks": ""
            },
            "colorscale": [
             [
              0,
              "#0d0887"
             ],
             [
              0.1111111111111111,
              "#46039f"
             ],
             [
              0.2222222222222222,
              "#7201a8"
             ],
             [
              0.3333333333333333,
              "#9c179e"
             ],
             [
              0.4444444444444444,
              "#bd3786"
             ],
             [
              0.5555555555555556,
              "#d8576b"
             ],
             [
              0.6666666666666666,
              "#ed7953"
             ],
             [
              0.7777777777777778,
              "#fb9f3a"
             ],
             [
              0.8888888888888888,
              "#fdca26"
             ],
             [
              1,
              "#f0f921"
             ]
            ],
            "type": "contour"
           }
          ],
          "contourcarpet": [
           {
            "colorbar": {
             "outlinewidth": 0,
             "ticks": ""
            },
            "type": "contourcarpet"
           }
          ],
          "heatmap": [
           {
            "colorbar": {
             "outlinewidth": 0,
             "ticks": ""
            },
            "colorscale": [
             [
              0,
              "#0d0887"
             ],
             [
              0.1111111111111111,
              "#46039f"
             ],
             [
              0.2222222222222222,
              "#7201a8"
             ],
             [
              0.3333333333333333,
              "#9c179e"
             ],
             [
              0.4444444444444444,
              "#bd3786"
             ],
             [
              0.5555555555555556,
              "#d8576b"
             ],
             [
              0.6666666666666666,
              "#ed7953"
             ],
             [
              0.7777777777777778,
              "#fb9f3a"
             ],
             [
              0.8888888888888888,
              "#fdca26"
             ],
             [
              1,
              "#f0f921"
             ]
            ],
            "type": "heatmap"
           }
          ],
          "heatmapgl": [
           {
            "colorbar": {
             "outlinewidth": 0,
             "ticks": ""
            },
            "colorscale": [
             [
              0,
              "#0d0887"
             ],
             [
              0.1111111111111111,
              "#46039f"
             ],
             [
              0.2222222222222222,
              "#7201a8"
             ],
             [
              0.3333333333333333,
              "#9c179e"
             ],
             [
              0.4444444444444444,
              "#bd3786"
             ],
             [
              0.5555555555555556,
              "#d8576b"
             ],
             [
              0.6666666666666666,
              "#ed7953"
             ],
             [
              0.7777777777777778,
              "#fb9f3a"
             ],
             [
              0.8888888888888888,
              "#fdca26"
             ],
             [
              1,
              "#f0f921"
             ]
            ],
            "type": "heatmapgl"
           }
          ],
          "histogram": [
           {
            "marker": {
             "pattern": {
              "fillmode": "overlay",
              "size": 10,
              "solidity": 0.2
             }
            },
            "type": "histogram"
           }
          ],
          "histogram2d": [
           {
            "colorbar": {
             "outlinewidth": 0,
             "ticks": ""
            },
            "colorscale": [
             [
              0,
              "#0d0887"
             ],
             [
              0.1111111111111111,
              "#46039f"
             ],
             [
              0.2222222222222222,
              "#7201a8"
             ],
             [
              0.3333333333333333,
              "#9c179e"
             ],
             [
              0.4444444444444444,
              "#bd3786"
             ],
             [
              0.5555555555555556,
              "#d8576b"
             ],
             [
              0.6666666666666666,
              "#ed7953"
             ],
             [
              0.7777777777777778,
              "#fb9f3a"
             ],
             [
              0.8888888888888888,
              "#fdca26"
             ],
             [
              1,
              "#f0f921"
             ]
            ],
            "type": "histogram2d"
           }
          ],
          "histogram2dcontour": [
           {
            "colorbar": {
             "outlinewidth": 0,
             "ticks": ""
            },
            "colorscale": [
             [
              0,
              "#0d0887"
             ],
             [
              0.1111111111111111,
              "#46039f"
             ],
             [
              0.2222222222222222,
              "#7201a8"
             ],
             [
              0.3333333333333333,
              "#9c179e"
             ],
             [
              0.4444444444444444,
              "#bd3786"
             ],
             [
              0.5555555555555556,
              "#d8576b"
             ],
             [
              0.6666666666666666,
              "#ed7953"
             ],
             [
              0.7777777777777778,
              "#fb9f3a"
             ],
             [
              0.8888888888888888,
              "#fdca26"
             ],
             [
              1,
              "#f0f921"
             ]
            ],
            "type": "histogram2dcontour"
           }
          ],
          "mesh3d": [
           {
            "colorbar": {
             "outlinewidth": 0,
             "ticks": ""
            },
            "type": "mesh3d"
           }
          ],
          "parcoords": [
           {
            "line": {
             "colorbar": {
              "outlinewidth": 0,
              "ticks": ""
             }
            },
            "type": "parcoords"
           }
          ],
          "pie": [
           {
            "automargin": true,
            "type": "pie"
           }
          ],
          "scatter": [
           {
            "fillpattern": {
             "fillmode": "overlay",
             "size": 10,
             "solidity": 0.2
            },
            "type": "scatter"
           }
          ],
          "scatter3d": [
           {
            "line": {
             "colorbar": {
              "outlinewidth": 0,
              "ticks": ""
             }
            },
            "marker": {
             "colorbar": {
              "outlinewidth": 0,
              "ticks": ""
             }
            },
            "type": "scatter3d"
           }
          ],
          "scattercarpet": [
           {
            "marker": {
             "colorbar": {
              "outlinewidth": 0,
              "ticks": ""
             }
            },
            "type": "scattercarpet"
           }
          ],
          "scattergeo": [
           {
            "marker": {
             "colorbar": {
              "outlinewidth": 0,
              "ticks": ""
             }
            },
            "type": "scattergeo"
           }
          ],
          "scattergl": [
           {
            "marker": {
             "colorbar": {
              "outlinewidth": 0,
              "ticks": ""
             }
            },
            "type": "scattergl"
           }
          ],
          "scattermapbox": [
           {
            "marker": {
             "colorbar": {
              "outlinewidth": 0,
              "ticks": ""
             }
            },
            "type": "scattermapbox"
           }
          ],
          "scatterpolar": [
           {
            "marker": {
             "colorbar": {
              "outlinewidth": 0,
              "ticks": ""
             }
            },
            "type": "scatterpolar"
           }
          ],
          "scatterpolargl": [
           {
            "marker": {
             "colorbar": {
              "outlinewidth": 0,
              "ticks": ""
             }
            },
            "type": "scatterpolargl"
           }
          ],
          "scatterternary": [
           {
            "marker": {
             "colorbar": {
              "outlinewidth": 0,
              "ticks": ""
             }
            },
            "type": "scatterternary"
           }
          ],
          "surface": [
           {
            "colorbar": {
             "outlinewidth": 0,
             "ticks": ""
            },
            "colorscale": [
             [
              0,
              "#0d0887"
             ],
             [
              0.1111111111111111,
              "#46039f"
             ],
             [
              0.2222222222222222,
              "#7201a8"
             ],
             [
              0.3333333333333333,
              "#9c179e"
             ],
             [
              0.4444444444444444,
              "#bd3786"
             ],
             [
              0.5555555555555556,
              "#d8576b"
             ],
             [
              0.6666666666666666,
              "#ed7953"
             ],
             [
              0.7777777777777778,
              "#fb9f3a"
             ],
             [
              0.8888888888888888,
              "#fdca26"
             ],
             [
              1,
              "#f0f921"
             ]
            ],
            "type": "surface"
           }
          ],
          "table": [
           {
            "cells": {
             "fill": {
              "color": "#EBF0F8"
             },
             "line": {
              "color": "white"
             }
            },
            "header": {
             "fill": {
              "color": "#C8D4E3"
             },
             "line": {
              "color": "white"
             }
            },
            "type": "table"
           }
          ]
         },
         "layout": {
          "annotationdefaults": {
           "arrowcolor": "#2a3f5f",
           "arrowhead": 0,
           "arrowwidth": 1
          },
          "autotypenumbers": "strict",
          "coloraxis": {
           "colorbar": {
            "outlinewidth": 0,
            "ticks": ""
           }
          },
          "colorscale": {
           "diverging": [
            [
             0,
             "#8e0152"
            ],
            [
             0.1,
             "#c51b7d"
            ],
            [
             0.2,
             "#de77ae"
            ],
            [
             0.3,
             "#f1b6da"
            ],
            [
             0.4,
             "#fde0ef"
            ],
            [
             0.5,
             "#f7f7f7"
            ],
            [
             0.6,
             "#e6f5d0"
            ],
            [
             0.7,
             "#b8e186"
            ],
            [
             0.8,
             "#7fbc41"
            ],
            [
             0.9,
             "#4d9221"
            ],
            [
             1,
             "#276419"
            ]
           ],
           "sequential": [
            [
             0,
             "#0d0887"
            ],
            [
             0.1111111111111111,
             "#46039f"
            ],
            [
             0.2222222222222222,
             "#7201a8"
            ],
            [
             0.3333333333333333,
             "#9c179e"
            ],
            [
             0.4444444444444444,
             "#bd3786"
            ],
            [
             0.5555555555555556,
             "#d8576b"
            ],
            [
             0.6666666666666666,
             "#ed7953"
            ],
            [
             0.7777777777777778,
             "#fb9f3a"
            ],
            [
             0.8888888888888888,
             "#fdca26"
            ],
            [
             1,
             "#f0f921"
            ]
           ],
           "sequentialminus": [
            [
             0,
             "#0d0887"
            ],
            [
             0.1111111111111111,
             "#46039f"
            ],
            [
             0.2222222222222222,
             "#7201a8"
            ],
            [
             0.3333333333333333,
             "#9c179e"
            ],
            [
             0.4444444444444444,
             "#bd3786"
            ],
            [
             0.5555555555555556,
             "#d8576b"
            ],
            [
             0.6666666666666666,
             "#ed7953"
            ],
            [
             0.7777777777777778,
             "#fb9f3a"
            ],
            [
             0.8888888888888888,
             "#fdca26"
            ],
            [
             1,
             "#f0f921"
            ]
           ]
          },
          "colorway": [
           "#636efa",
           "#EF553B",
           "#00cc96",
           "#ab63fa",
           "#FFA15A",
           "#19d3f3",
           "#FF6692",
           "#B6E880",
           "#FF97FF",
           "#FECB52"
          ],
          "font": {
           "color": "#2a3f5f"
          },
          "geo": {
           "bgcolor": "white",
           "lakecolor": "white",
           "landcolor": "#E5ECF6",
           "showlakes": true,
           "showland": true,
           "subunitcolor": "white"
          },
          "hoverlabel": {
           "align": "left"
          },
          "hovermode": "closest",
          "mapbox": {
           "style": "light"
          },
          "paper_bgcolor": "white",
          "plot_bgcolor": "#E5ECF6",
          "polar": {
           "angularaxis": {
            "gridcolor": "white",
            "linecolor": "white",
            "ticks": ""
           },
           "bgcolor": "#E5ECF6",
           "radialaxis": {
            "gridcolor": "white",
            "linecolor": "white",
            "ticks": ""
           }
          },
          "scene": {
           "xaxis": {
            "backgroundcolor": "#E5ECF6",
            "gridcolor": "white",
            "gridwidth": 2,
            "linecolor": "white",
            "showbackground": true,
            "ticks": "",
            "zerolinecolor": "white"
           },
           "yaxis": {
            "backgroundcolor": "#E5ECF6",
            "gridcolor": "white",
            "gridwidth": 2,
            "linecolor": "white",
            "showbackground": true,
            "ticks": "",
            "zerolinecolor": "white"
           },
           "zaxis": {
            "backgroundcolor": "#E5ECF6",
            "gridcolor": "white",
            "gridwidth": 2,
            "linecolor": "white",
            "showbackground": true,
            "ticks": "",
            "zerolinecolor": "white"
           }
          },
          "shapedefaults": {
           "line": {
            "color": "#2a3f5f"
           }
          },
          "ternary": {
           "aaxis": {
            "gridcolor": "white",
            "linecolor": "white",
            "ticks": ""
           },
           "baxis": {
            "gridcolor": "white",
            "linecolor": "white",
            "ticks": ""
           },
           "bgcolor": "#E5ECF6",
           "caxis": {
            "gridcolor": "white",
            "linecolor": "white",
            "ticks": ""
           }
          },
          "title": {
           "x": 0.05
          },
          "xaxis": {
           "automargin": true,
           "gridcolor": "white",
           "linecolor": "white",
           "ticks": "",
           "title": {
            "standoff": 15
           },
           "zerolinecolor": "white",
           "zerolinewidth": 2
          },
          "yaxis": {
           "automargin": true,
           "gridcolor": "white",
           "linecolor": "white",
           "ticks": "",
           "title": {
            "standoff": 15
           },
           "zerolinecolor": "white",
           "zerolinewidth": 2
          }
         }
        },
        "title": {
         "text": "Performance comparison of all models"
        },
        "width": 800,
        "yaxis": {
         "dtick": 0.2,
         "tickmode": "linear"
        }
       }
      }
     },
     "metadata": {},
     "output_type": "display_data"
    }
   ],
   "source": [
    "fig=go.Figure()\n",
    "for symbol in plot_df[\"Symbol\"].unique():\n",
    "    fig.add_trace(go.Bar(x=labels,y=plot_df[plot_df[\"Symbol\"]==symbol][mean_cols].values.ravel(),name=symbol))#]plot_df[plot_df[\"Symbol\"]==symbol][mean_cols]\n",
    "fig.update_layout(legend=dict(y=1.04,x=0.05,orientation=\"h\"),title=\"Performance comparison of all models\",margin=dict(l=0,r=0,t=30,b=0),width=800,height=400, yaxis=dict(tickmode=\"linear\",dtick=0.2))\n",
    "fig.show()"
   ]
  },
  {
   "cell_type": "code",
   "execution_count": 48,
   "metadata": {},
   "outputs": [
    {
     "data": {
      "application/vnd.plotly.v1+json": {
       "config": {
        "plotlyServerURL": "https://plot.ly"
       },
       "data": [
        {
         "error_y": {
          "array": [
           0.029930074013274095,
           0.005142418431430683,
           0.03832076551997172,
           0.004956567936030178,
           0.4251929477841879,
           0.00452719123648644,
           0.30828725765044684,
           0.011421680330906793,
           0.04853287263455756,
           0.008858256863102227,
           0
          ]
         },
         "mode": "markers",
         "name": "Accuracy",
         "type": "scatter",
         "x": [
          "D1",
          "S1",
          "D3",
          "S3",
          "D4",
          "S4",
          "D2",
          "S2",
          "A2",
          "A1",
          "DC1"
         ],
         "xaxis": "x",
         "y": [
          0.7987626755002062,
          0.9641172400779923,
          0.8980211893130947,
          0.9830073170220351,
          0.5992171648344993,
          0.9928050836336474,
          0.5584123234709225,
          0.9810650797977044,
          0.9488779867357137,
          0.9868129372217679,
          0.992050513309712
         ],
         "yaxis": "y"
        },
        {
         "error_y": {
          "array": [
           0.009926194707652722,
           0.02878192079868059,
           0.05680599457291845,
           0.0943238353752762,
           0.20604928802907718,
           0.12350544806839282,
           0.048956692443606266,
           0.1456295212327915,
           0.2826935580037535,
           0.17569954531695722,
           0
          ]
         },
         "mode": "markers",
         "name": "F1-Score",
         "type": "scatter",
         "x": [
          "D1",
          "S1",
          "D3",
          "S3",
          "D4",
          "S4",
          "D2",
          "S2",
          "A2",
          "A1",
          "DC1"
         ],
         "xaxis": "x2",
         "y": [
          0.07401244380513354,
          0.2986879612128439,
          0.15043925892641516,
          0.4854338323796533,
          0.18547105521491256,
          0.6992972018018979,
          0.056500434981386745,
          0.4725504356576323,
          0.4129507896018506,
          0.5811444870772023,
          0
         ],
         "yaxis": "y2"
        },
        {
         "error_y": {
          "array": [
           0.019402280627706398,
           0.019761740805501346,
           0.04939120900669957,
           0.01639751409436731,
           0.02931060495773002,
           0.01530607964927558,
           0.06660252031130422,
           0.022586463580172647,
           0.015648316011313803,
           0.015648316011313803,
           0
          ]
         },
         "mode": "markers",
         "name": "PRC",
         "type": "scatter",
         "x": [
          "D1",
          "S1",
          "D3",
          "S3",
          "D4",
          "S4",
          "D2",
          "S2",
          "A2",
          "A1",
          "DC1"
         ],
         "xaxis": "x3",
         "y": [
          0.7038593268433797,
          0.7133620881990261,
          0.799032421198022,
          0.8419977038791532,
          0.8717682673855605,
          0.9091016094117076,
          0.521415196803504,
          0.7392228976879233,
          0.8663369843959396,
          0.8663369843959396,
          0.503974743345144
         ],
         "yaxis": "y3"
        },
        {
         "error_y": {
          "array": [
           0.3960853089703632,
           0.015041704292104307,
           0.4158512131729121,
           0.056750980887230844,
           0.3240076058291963,
           0.043249235215051175,
           0.3389565196745196,
           0.13902152397015413,
           0.4015292734950599,
           0.08909751594146031,
           0
          ]
         },
         "mode": "markers",
         "name": "Youden Score",
         "type": "scatter",
         "x": [
          "D1",
          "S1",
          "D3",
          "S3",
          "D4",
          "S4",
          "D2",
          "S2",
          "A2",
          "A1",
          "DC1"
         ],
         "xaxis": "x4",
         "y": [
          0.9178797382845187,
          0.9191432003135834,
          0.9415396893046969,
          0.9477793080128352,
          0.952718414777117,
          0.9589599500529489,
          0.8532515806511868,
          0.8786189262401544,
          0.9435647629077731,
          0.9435647629077731,
          0
         ],
         "yaxis": "y4"
        },
        {
         "error_y": {
          "array": [
           0.06358912808018784,
           0.07181110148463751,
           0.04165748431143626,
           0.3283092275406678,
           0.038133065858655835,
           0.05128869938622202,
           0.3438035983437271,
           0,
           0.021467122000479403,
           0.021467122000479403,
           0
          ]
         },
         "mode": "markers",
         "name": "cV",
         "type": "scatter",
         "x": [
          "D1",
          "S1",
          "D3",
          "S3",
          "D4",
          "S4",
          "D2",
          "S2",
          "A2",
          "A1",
          "DC1"
         ],
         "xaxis": "x5",
         "y": [
          0.42334223128398685,
          -0.04208791208791206,
          0.610540232239028,
          -0.04692307692307687,
          0.16029523417041164,
          -0.06841269841269836,
          0.22679137439428665,
          -0.14047619047619045,
          0.10299117568177511,
          -0.10285714285714283,
          -0.99
         ],
         "yaxis": "y5"
        },
        {
         "error_y": {
          "array": [
           0.1895905653249303,
           0.18547223769993956,
           0.16886802410054993,
           0.23916287135503442,
           0.1203150183779252,
           0.1517482348906582,
           0.09091017216700469,
           0.025709414465707806,
           0.1356319566512299,
           0.1356319566512299,
           0
          ]
         },
         "mode": "markers",
         "name": "V@S",
         "type": "scatter",
         "x": [
          "D1",
          "S1",
          "D3",
          "S3",
          "D4",
          "S4",
          "D2",
          "S2",
          "A2",
          "A1",
          "DC1"
         ],
         "xaxis": "x6",
         "y": [
          0.7955404410599247,
          0.8036962808243544,
          0.9007615169756295,
          0.764847291542653,
          0.9250092851219276,
          0.923075944665761,
          0.4746147310367284,
          0,
          0.9063647602912221,
          0.9063647602912221,
          0
         ],
         "yaxis": "y6"
        },
        {
         "error_y": {
          "array": [
           0.005872698556434038,
           0.015041704292104297,
           0.012354698305543041,
           0.056750980887230844,
           0.020725077770094573,
           0.04324923521505118,
           0.017664035229515655,
           0.13902152397015408,
           0.09545594132736776,
           0.08909751594146031,
           0
          ]
         },
         "mode": "markers",
         "name": "cAUC",
         "type": "scatter",
         "x": [
          "D1",
          "S1",
          "D3",
          "S3",
          "D4",
          "S4",
          "D2",
          "S2",
          "A2",
          "A1",
          "DC1"
         ],
         "xaxis": "x7",
         "y": [
          0.30474090076568633,
          0.30650789650898314,
          0.4996201872775137,
          0.3388715713661695,
          0.6261579146669662,
          0.5738399775557791,
          0.07858248166339882,
          -0.044171877505210795,
          0.49677979085587526,
          0.49677979085587526,
          -1
         ],
         "yaxis": "y7"
        },
        {
         "error_y": {
          "array": [
           0.030188595813572937,
           0.005235695626615482,
           0.03868629948040635,
           0.005381479326935738,
           0.42870360102005445,
           0.004848827896034523,
           0.310846873878238,
           0.012309089037137401,
           0.04949469758745373,
           0.00956204858887511,
           0
          ]
         },
         "mode": "markers",
         "name": "Slip rate",
         "type": "scatter",
         "x": [
          "D1",
          "S1",
          "D3",
          "S3",
          "D4",
          "S4",
          "D2",
          "S2",
          "A2",
          "A1",
          "DC1"
         ],
         "xaxis": "x8",
         "y": [
          0.008351648351648366,
          0.05208791208791197,
          0.010329670329670249,
          0.056923076923077076,
          0.014920634920634779,
          0.07841269841269827,
          0.014285714285714235,
          0.15047619047619054,
          0.08285714285714296,
          0.11285714285714277,
          1
         ],
         "yaxis": "y8"
        },
        {
         "error_y": {
          "array": [
           0.012463598358649592,
           0.012902335513674678,
           0.012034681364564698,
           0.010084903392784846,
           0.01308659905547683,
           0.012972023591455953,
           0.03058781577741516,
           0.03600407119617937,
           0.005648351640644653,
           0.005648351640644653,
           0
          ]
         },
         "mode": "markers",
         "name": "Volume Reduction",
         "type": "scatter",
         "x": [
          "D1",
          "S1",
          "D3",
          "S3",
          "D4",
          "S4",
          "D2",
          "S2",
          "A2",
          "A1",
          "DC1"
         ],
         "xaxis": "x9",
         "y": [
          0.797217046427175,
          0.9642470949994189,
          0.8972867875748045,
          0.983327286752352,
          0.5961251787067988,
          0.9933757650686081,
          0.5549882727638119,
          0.9821191446494804,
          0.9491322862768442,
          0.9876116122533082,
          1
         ],
         "yaxis": "y9"
        }
       ],
       "layout": {
        "annotations": [
         {
          "font": {
           "size": 16
          },
          "showarrow": false,
          "text": "Accuracy",
          "x": 0.14444444444444446,
          "xanchor": "center",
          "xref": "paper",
          "y": 1,
          "yanchor": "bottom",
          "yref": "paper"
         },
         {
          "font": {
           "size": 16
          },
          "showarrow": false,
          "text": "F1-Score",
          "x": 0.5,
          "xanchor": "center",
          "xref": "paper",
          "y": 1,
          "yanchor": "bottom",
          "yref": "paper"
         },
         {
          "font": {
           "size": 16
          },
          "showarrow": false,
          "text": "PRC",
          "x": 0.8555555555555556,
          "xanchor": "center",
          "xref": "paper",
          "y": 1,
          "yanchor": "bottom",
          "yref": "paper"
         },
         {
          "font": {
           "size": 16
          },
          "showarrow": false,
          "text": "Youden Score",
          "x": 0.14444444444444446,
          "xanchor": "center",
          "xref": "paper",
          "y": 0.6111111111111112,
          "yanchor": "bottom",
          "yref": "paper"
         },
         {
          "font": {
           "size": 16
          },
          "showarrow": false,
          "text": "cV",
          "x": 0.5,
          "xanchor": "center",
          "xref": "paper",
          "y": 0.6111111111111112,
          "yanchor": "bottom",
          "yref": "paper"
         },
         {
          "font": {
           "size": 16
          },
          "showarrow": false,
          "text": "V@S",
          "x": 0.8555555555555556,
          "xanchor": "center",
          "xref": "paper",
          "y": 0.6111111111111112,
          "yanchor": "bottom",
          "yref": "paper"
         },
         {
          "font": {
           "size": 16
          },
          "showarrow": false,
          "text": "cAUC",
          "x": 0.14444444444444446,
          "xanchor": "center",
          "xref": "paper",
          "y": 0.22222222222222224,
          "yanchor": "bottom",
          "yref": "paper"
         },
         {
          "font": {
           "size": 16
          },
          "showarrow": false,
          "text": "Slip rate",
          "x": 0.5,
          "xanchor": "center",
          "xref": "paper",
          "y": 0.22222222222222224,
          "yanchor": "bottom",
          "yref": "paper"
         },
         {
          "font": {
           "size": 16
          },
          "showarrow": false,
          "text": "Volume Reduction",
          "x": 0.8555555555555556,
          "xanchor": "center",
          "xref": "paper",
          "y": 0.22222222222222224,
          "yanchor": "bottom",
          "yref": "paper"
         }
        ],
        "height": 600,
        "margin": {
         "b": 0,
         "l": 0,
         "r": 0,
         "t": 20
        },
        "showlegend": false,
        "template": {
         "data": {
          "bar": [
           {
            "error_x": {
             "color": "#2a3f5f"
            },
            "error_y": {
             "color": "#2a3f5f"
            },
            "marker": {
             "line": {
              "color": "#E5ECF6",
              "width": 0.5
             },
             "pattern": {
              "fillmode": "overlay",
              "size": 10,
              "solidity": 0.2
             }
            },
            "type": "bar"
           }
          ],
          "barpolar": [
           {
            "marker": {
             "line": {
              "color": "#E5ECF6",
              "width": 0.5
             },
             "pattern": {
              "fillmode": "overlay",
              "size": 10,
              "solidity": 0.2
             }
            },
            "type": "barpolar"
           }
          ],
          "carpet": [
           {
            "aaxis": {
             "endlinecolor": "#2a3f5f",
             "gridcolor": "white",
             "linecolor": "white",
             "minorgridcolor": "white",
             "startlinecolor": "#2a3f5f"
            },
            "baxis": {
             "endlinecolor": "#2a3f5f",
             "gridcolor": "white",
             "linecolor": "white",
             "minorgridcolor": "white",
             "startlinecolor": "#2a3f5f"
            },
            "type": "carpet"
           }
          ],
          "choropleth": [
           {
            "colorbar": {
             "outlinewidth": 0,
             "ticks": ""
            },
            "type": "choropleth"
           }
          ],
          "contour": [
           {
            "colorbar": {
             "outlinewidth": 0,
             "ticks": ""
            },
            "colorscale": [
             [
              0,
              "#0d0887"
             ],
             [
              0.1111111111111111,
              "#46039f"
             ],
             [
              0.2222222222222222,
              "#7201a8"
             ],
             [
              0.3333333333333333,
              "#9c179e"
             ],
             [
              0.4444444444444444,
              "#bd3786"
             ],
             [
              0.5555555555555556,
              "#d8576b"
             ],
             [
              0.6666666666666666,
              "#ed7953"
             ],
             [
              0.7777777777777778,
              "#fb9f3a"
             ],
             [
              0.8888888888888888,
              "#fdca26"
             ],
             [
              1,
              "#f0f921"
             ]
            ],
            "type": "contour"
           }
          ],
          "contourcarpet": [
           {
            "colorbar": {
             "outlinewidth": 0,
             "ticks": ""
            },
            "type": "contourcarpet"
           }
          ],
          "heatmap": [
           {
            "colorbar": {
             "outlinewidth": 0,
             "ticks": ""
            },
            "colorscale": [
             [
              0,
              "#0d0887"
             ],
             [
              0.1111111111111111,
              "#46039f"
             ],
             [
              0.2222222222222222,
              "#7201a8"
             ],
             [
              0.3333333333333333,
              "#9c179e"
             ],
             [
              0.4444444444444444,
              "#bd3786"
             ],
             [
              0.5555555555555556,
              "#d8576b"
             ],
             [
              0.6666666666666666,
              "#ed7953"
             ],
             [
              0.7777777777777778,
              "#fb9f3a"
             ],
             [
              0.8888888888888888,
              "#fdca26"
             ],
             [
              1,
              "#f0f921"
             ]
            ],
            "type": "heatmap"
           }
          ],
          "heatmapgl": [
           {
            "colorbar": {
             "outlinewidth": 0,
             "ticks": ""
            },
            "colorscale": [
             [
              0,
              "#0d0887"
             ],
             [
              0.1111111111111111,
              "#46039f"
             ],
             [
              0.2222222222222222,
              "#7201a8"
             ],
             [
              0.3333333333333333,
              "#9c179e"
             ],
             [
              0.4444444444444444,
              "#bd3786"
             ],
             [
              0.5555555555555556,
              "#d8576b"
             ],
             [
              0.6666666666666666,
              "#ed7953"
             ],
             [
              0.7777777777777778,
              "#fb9f3a"
             ],
             [
              0.8888888888888888,
              "#fdca26"
             ],
             [
              1,
              "#f0f921"
             ]
            ],
            "type": "heatmapgl"
           }
          ],
          "histogram": [
           {
            "marker": {
             "pattern": {
              "fillmode": "overlay",
              "size": 10,
              "solidity": 0.2
             }
            },
            "type": "histogram"
           }
          ],
          "histogram2d": [
           {
            "colorbar": {
             "outlinewidth": 0,
             "ticks": ""
            },
            "colorscale": [
             [
              0,
              "#0d0887"
             ],
             [
              0.1111111111111111,
              "#46039f"
             ],
             [
              0.2222222222222222,
              "#7201a8"
             ],
             [
              0.3333333333333333,
              "#9c179e"
             ],
             [
              0.4444444444444444,
              "#bd3786"
             ],
             [
              0.5555555555555556,
              "#d8576b"
             ],
             [
              0.6666666666666666,
              "#ed7953"
             ],
             [
              0.7777777777777778,
              "#fb9f3a"
             ],
             [
              0.8888888888888888,
              "#fdca26"
             ],
             [
              1,
              "#f0f921"
             ]
            ],
            "type": "histogram2d"
           }
          ],
          "histogram2dcontour": [
           {
            "colorbar": {
             "outlinewidth": 0,
             "ticks": ""
            },
            "colorscale": [
             [
              0,
              "#0d0887"
             ],
             [
              0.1111111111111111,
              "#46039f"
             ],
             [
              0.2222222222222222,
              "#7201a8"
             ],
             [
              0.3333333333333333,
              "#9c179e"
             ],
             [
              0.4444444444444444,
              "#bd3786"
             ],
             [
              0.5555555555555556,
              "#d8576b"
             ],
             [
              0.6666666666666666,
              "#ed7953"
             ],
             [
              0.7777777777777778,
              "#fb9f3a"
             ],
             [
              0.8888888888888888,
              "#fdca26"
             ],
             [
              1,
              "#f0f921"
             ]
            ],
            "type": "histogram2dcontour"
           }
          ],
          "mesh3d": [
           {
            "colorbar": {
             "outlinewidth": 0,
             "ticks": ""
            },
            "type": "mesh3d"
           }
          ],
          "parcoords": [
           {
            "line": {
             "colorbar": {
              "outlinewidth": 0,
              "ticks": ""
             }
            },
            "type": "parcoords"
           }
          ],
          "pie": [
           {
            "automargin": true,
            "type": "pie"
           }
          ],
          "scatter": [
           {
            "fillpattern": {
             "fillmode": "overlay",
             "size": 10,
             "solidity": 0.2
            },
            "type": "scatter"
           }
          ],
          "scatter3d": [
           {
            "line": {
             "colorbar": {
              "outlinewidth": 0,
              "ticks": ""
             }
            },
            "marker": {
             "colorbar": {
              "outlinewidth": 0,
              "ticks": ""
             }
            },
            "type": "scatter3d"
           }
          ],
          "scattercarpet": [
           {
            "marker": {
             "colorbar": {
              "outlinewidth": 0,
              "ticks": ""
             }
            },
            "type": "scattercarpet"
           }
          ],
          "scattergeo": [
           {
            "marker": {
             "colorbar": {
              "outlinewidth": 0,
              "ticks": ""
             }
            },
            "type": "scattergeo"
           }
          ],
          "scattergl": [
           {
            "marker": {
             "colorbar": {
              "outlinewidth": 0,
              "ticks": ""
             }
            },
            "type": "scattergl"
           }
          ],
          "scattermapbox": [
           {
            "marker": {
             "colorbar": {
              "outlinewidth": 0,
              "ticks": ""
             }
            },
            "type": "scattermapbox"
           }
          ],
          "scatterpolar": [
           {
            "marker": {
             "colorbar": {
              "outlinewidth": 0,
              "ticks": ""
             }
            },
            "type": "scatterpolar"
           }
          ],
          "scatterpolargl": [
           {
            "marker": {
             "colorbar": {
              "outlinewidth": 0,
              "ticks": ""
             }
            },
            "type": "scatterpolargl"
           }
          ],
          "scatterternary": [
           {
            "marker": {
             "colorbar": {
              "outlinewidth": 0,
              "ticks": ""
             }
            },
            "type": "scatterternary"
           }
          ],
          "surface": [
           {
            "colorbar": {
             "outlinewidth": 0,
             "ticks": ""
            },
            "colorscale": [
             [
              0,
              "#0d0887"
             ],
             [
              0.1111111111111111,
              "#46039f"
             ],
             [
              0.2222222222222222,
              "#7201a8"
             ],
             [
              0.3333333333333333,
              "#9c179e"
             ],
             [
              0.4444444444444444,
              "#bd3786"
             ],
             [
              0.5555555555555556,
              "#d8576b"
             ],
             [
              0.6666666666666666,
              "#ed7953"
             ],
             [
              0.7777777777777778,
              "#fb9f3a"
             ],
             [
              0.8888888888888888,
              "#fdca26"
             ],
             [
              1,
              "#f0f921"
             ]
            ],
            "type": "surface"
           }
          ],
          "table": [
           {
            "cells": {
             "fill": {
              "color": "#EBF0F8"
             },
             "line": {
              "color": "white"
             }
            },
            "header": {
             "fill": {
              "color": "#C8D4E3"
             },
             "line": {
              "color": "white"
             }
            },
            "type": "table"
           }
          ]
         },
         "layout": {
          "annotationdefaults": {
           "arrowcolor": "#2a3f5f",
           "arrowhead": 0,
           "arrowwidth": 1
          },
          "autotypenumbers": "strict",
          "coloraxis": {
           "colorbar": {
            "outlinewidth": 0,
            "ticks": ""
           }
          },
          "colorscale": {
           "diverging": [
            [
             0,
             "#8e0152"
            ],
            [
             0.1,
             "#c51b7d"
            ],
            [
             0.2,
             "#de77ae"
            ],
            [
             0.3,
             "#f1b6da"
            ],
            [
             0.4,
             "#fde0ef"
            ],
            [
             0.5,
             "#f7f7f7"
            ],
            [
             0.6,
             "#e6f5d0"
            ],
            [
             0.7,
             "#b8e186"
            ],
            [
             0.8,
             "#7fbc41"
            ],
            [
             0.9,
             "#4d9221"
            ],
            [
             1,
             "#276419"
            ]
           ],
           "sequential": [
            [
             0,
             "#0d0887"
            ],
            [
             0.1111111111111111,
             "#46039f"
            ],
            [
             0.2222222222222222,
             "#7201a8"
            ],
            [
             0.3333333333333333,
             "#9c179e"
            ],
            [
             0.4444444444444444,
             "#bd3786"
            ],
            [
             0.5555555555555556,
             "#d8576b"
            ],
            [
             0.6666666666666666,
             "#ed7953"
            ],
            [
             0.7777777777777778,
             "#fb9f3a"
            ],
            [
             0.8888888888888888,
             "#fdca26"
            ],
            [
             1,
             "#f0f921"
            ]
           ],
           "sequentialminus": [
            [
             0,
             "#0d0887"
            ],
            [
             0.1111111111111111,
             "#46039f"
            ],
            [
             0.2222222222222222,
             "#7201a8"
            ],
            [
             0.3333333333333333,
             "#9c179e"
            ],
            [
             0.4444444444444444,
             "#bd3786"
            ],
            [
             0.5555555555555556,
             "#d8576b"
            ],
            [
             0.6666666666666666,
             "#ed7953"
            ],
            [
             0.7777777777777778,
             "#fb9f3a"
            ],
            [
             0.8888888888888888,
             "#fdca26"
            ],
            [
             1,
             "#f0f921"
            ]
           ]
          },
          "colorway": [
           "#636efa",
           "#EF553B",
           "#00cc96",
           "#ab63fa",
           "#FFA15A",
           "#19d3f3",
           "#FF6692",
           "#B6E880",
           "#FF97FF",
           "#FECB52"
          ],
          "font": {
           "color": "#2a3f5f"
          },
          "geo": {
           "bgcolor": "white",
           "lakecolor": "white",
           "landcolor": "#E5ECF6",
           "showlakes": true,
           "showland": true,
           "subunitcolor": "white"
          },
          "hoverlabel": {
           "align": "left"
          },
          "hovermode": "closest",
          "mapbox": {
           "style": "light"
          },
          "paper_bgcolor": "white",
          "plot_bgcolor": "#E5ECF6",
          "polar": {
           "angularaxis": {
            "gridcolor": "white",
            "linecolor": "white",
            "ticks": ""
           },
           "bgcolor": "#E5ECF6",
           "radialaxis": {
            "gridcolor": "white",
            "linecolor": "white",
            "ticks": ""
           }
          },
          "scene": {
           "xaxis": {
            "backgroundcolor": "#E5ECF6",
            "gridcolor": "white",
            "gridwidth": 2,
            "linecolor": "white",
            "showbackground": true,
            "ticks": "",
            "zerolinecolor": "white"
           },
           "yaxis": {
            "backgroundcolor": "#E5ECF6",
            "gridcolor": "white",
            "gridwidth": 2,
            "linecolor": "white",
            "showbackground": true,
            "ticks": "",
            "zerolinecolor": "white"
           },
           "zaxis": {
            "backgroundcolor": "#E5ECF6",
            "gridcolor": "white",
            "gridwidth": 2,
            "linecolor": "white",
            "showbackground": true,
            "ticks": "",
            "zerolinecolor": "white"
           }
          },
          "shapedefaults": {
           "line": {
            "color": "#2a3f5f"
           }
          },
          "ternary": {
           "aaxis": {
            "gridcolor": "white",
            "linecolor": "white",
            "ticks": ""
           },
           "baxis": {
            "gridcolor": "white",
            "linecolor": "white",
            "ticks": ""
           },
           "bgcolor": "#E5ECF6",
           "caxis": {
            "gridcolor": "white",
            "linecolor": "white",
            "ticks": ""
           }
          },
          "title": {
           "x": 0.05
          },
          "xaxis": {
           "automargin": true,
           "gridcolor": "white",
           "linecolor": "white",
           "ticks": "",
           "title": {
            "standoff": 15
           },
           "zerolinecolor": "white",
           "zerolinewidth": 2
          },
          "yaxis": {
           "automargin": true,
           "gridcolor": "white",
           "linecolor": "white",
           "ticks": "",
           "title": {
            "standoff": 15
           },
           "zerolinecolor": "white",
           "zerolinewidth": 2
          }
         }
        },
        "width": 1000,
        "xaxis": {
         "anchor": "y",
         "domain": [
          0,
          0.2888888888888889
         ],
         "title": {
          "text": "Model reference"
         }
        },
        "xaxis2": {
         "anchor": "y2",
         "domain": [
          0.35555555555555557,
          0.6444444444444445
         ],
         "title": {
          "text": "Model reference"
         }
        },
        "xaxis3": {
         "anchor": "y3",
         "domain": [
          0.7111111111111111,
          1
         ],
         "title": {
          "text": "Model reference"
         }
        },
        "xaxis4": {
         "anchor": "y4",
         "domain": [
          0,
          0.2888888888888889
         ],
         "title": {
          "text": "Model reference"
         }
        },
        "xaxis5": {
         "anchor": "y5",
         "domain": [
          0.35555555555555557,
          0.6444444444444445
         ],
         "title": {
          "text": "Model reference"
         }
        },
        "xaxis6": {
         "anchor": "y6",
         "domain": [
          0.7111111111111111,
          1
         ],
         "title": {
          "text": "Model reference"
         }
        },
        "xaxis7": {
         "anchor": "y7",
         "domain": [
          0,
          0.2888888888888889
         ],
         "title": {
          "text": "Model reference"
         }
        },
        "xaxis8": {
         "anchor": "y8",
         "domain": [
          0.35555555555555557,
          0.6444444444444445
         ],
         "title": {
          "text": "Model reference"
         }
        },
        "xaxis9": {
         "anchor": "y9",
         "domain": [
          0.7111111111111111,
          1
         ],
         "title": {
          "text": "Model reference"
         }
        },
        "yaxis": {
         "anchor": "x",
         "domain": [
          0.7777777777777778,
          1
         ],
         "title": {
          "text": "Value"
         }
        },
        "yaxis2": {
         "anchor": "x2",
         "domain": [
          0.7777777777777778,
          1
         ],
         "title": {
          "text": "Value"
         }
        },
        "yaxis3": {
         "anchor": "x3",
         "domain": [
          0.7777777777777778,
          1
         ],
         "title": {
          "text": "Value"
         }
        },
        "yaxis4": {
         "anchor": "x4",
         "domain": [
          0.3888888888888889,
          0.6111111111111112
         ],
         "title": {
          "text": "Value"
         }
        },
        "yaxis5": {
         "anchor": "x5",
         "domain": [
          0.3888888888888889,
          0.6111111111111112
         ],
         "title": {
          "text": "Value"
         }
        },
        "yaxis6": {
         "anchor": "x6",
         "domain": [
          0.3888888888888889,
          0.6111111111111112
         ],
         "title": {
          "text": "Value"
         }
        },
        "yaxis7": {
         "anchor": "x7",
         "domain": [
          0,
          0.22222222222222224
         ],
         "title": {
          "text": "Value"
         }
        },
        "yaxis8": {
         "anchor": "x8",
         "domain": [
          0,
          0.22222222222222224
         ],
         "title": {
          "text": "Value"
         }
        },
        "yaxis9": {
         "anchor": "x9",
         "domain": [
          0,
          0.22222222222222224
         ],
         "title": {
          "text": "Value"
         }
        }
       }
      }
     },
     "metadata": {},
     "output_type": "display_data"
    }
   ],
   "source": [
    "\n",
    "fig=make_subplots(rows=3, cols=3,subplot_titles=labels)\n",
    "i=0\n",
    "j=1\n",
    "for metric in mean_cols:\n",
    "    # print(metric,(i//3)+1,(i)%3+1,\"\\n\")\n",
    "    if metric==\"SlipTestMean\":\n",
    "        y=1-plot_df[metric]\n",
    "    else:\n",
    "        y=plot_df[metric]\n",
    "    error_y=dict(array=plot_df[std_cols[i]].values)\n",
    "    x=plot_df[\"Symbol\"]\n",
    "    fig.add_trace(go.Scatter(x=x, y=y,error_y=error_y, mode='markers',name=labels[i]), row=(i//3)+1, col=i%3+1)\n",
    "    # fig.update_yaxes(range=[0,1.1], row=(i//3)+1, col=(i-1)%3+1)\n",
    "    # fig.update_layout(margin=dict(b=0), row=(i//3)+1, col=(i-1)%3+1)\n",
    "    i+=1\n",
    "fig.update_layout(width=1000,height=600, margin=dict(l=0, r=0, t=20, b=0),showlegend=False)\n",
    "fig.update_xaxes(title=\"Model reference\")\n",
    "fig.update_yaxes(title=\"Value\")\n",
    "fig.show()\n",
    "fig.write_image(\"./figs/Model_comparison.svg\")"
   ]
  },
  {
   "cell_type": "code",
   "execution_count": 49,
   "metadata": {},
   "outputs": [
    {
     "data": {
      "text/html": [
       "<div>\n",
       "<style scoped>\n",
       "    .dataframe tbody tr th:only-of-type {\n",
       "        vertical-align: middle;\n",
       "    }\n",
       "\n",
       "    .dataframe tbody tr th {\n",
       "        vertical-align: top;\n",
       "    }\n",
       "\n",
       "    .dataframe thead th {\n",
       "        text-align: right;\n",
       "    }\n",
       "</style>\n",
       "<table border=\"1\" class=\"dataframe\">\n",
       "  <thead>\n",
       "    <tr style=\"text-align: right;\">\n",
       "      <th></th>\n",
       "      <th>Model</th>\n",
       "      <th>TargetMetric</th>\n",
       "      <th>Threshold</th>\n",
       "      <th>Symbol</th>\n",
       "      <th>ConstrainedVolumeReductionEval0Std</th>\n",
       "      <th>ConstrainedVolumeReductionEval0Mean</th>\n",
       "      <th>ConstrainedVolumeReductionEval1Std</th>\n",
       "      <th>ConstrainedVolumeReductionEval1Mean</th>\n",
       "      <th>ConstrainedVolumeReductionEval2Std</th>\n",
       "      <th>ConstrainedVolumeReductionEval2Mean</th>\n",
       "      <th>...</th>\n",
       "      <th>VolumeReductionEval1 Std</th>\n",
       "      <th>VolumeReductionEval1 Mean</th>\n",
       "      <th>VolumeReductionEval2 Std</th>\n",
       "      <th>VolumeReductionEval2 Mean</th>\n",
       "      <th>VolumeReductionEval3 Std</th>\n",
       "      <th>VolumeReductionEval3 Mean</th>\n",
       "      <th>VolumeReductionEval4 Std</th>\n",
       "      <th>VolumeReductionEval4 Mean</th>\n",
       "      <th>VolumeReductionTest Std</th>\n",
       "      <th>VolumeReductionTest Mean</th>\n",
       "    </tr>\n",
       "  </thead>\n",
       "  <tbody>\n",
       "    <tr>\n",
       "      <th>0</th>\n",
       "      <td>BRFC</td>\n",
       "      <td>ConstrainedAUC</td>\n",
       "      <td>AdaptedThreshold</td>\n",
       "      <td>D1</td>\n",
       "      <td>0.025344</td>\n",
       "      <td>-0.062874</td>\n",
       "      <td>0.015779</td>\n",
       "      <td>-0.043254</td>\n",
       "      <td>0.030544</td>\n",
       "      <td>-0.076404</td>\n",
       "      <td>...</td>\n",
       "      <td>0.066024</td>\n",
       "      <td>0.487191</td>\n",
       "      <td>0.066297</td>\n",
       "      <td>0.653039</td>\n",
       "      <td>0.043108</td>\n",
       "      <td>0.779705</td>\n",
       "      <td>0.057409</td>\n",
       "      <td>0.415436</td>\n",
       "      <td>0.030189</td>\n",
       "      <td>0.797217</td>\n",
       "    </tr>\n",
       "    <tr>\n",
       "      <th>4</th>\n",
       "      <td>RFC</td>\n",
       "      <td>ConstrainedAUC</td>\n",
       "      <td>AdaptedThreshold</td>\n",
       "      <td>D3</td>\n",
       "      <td>0.073786</td>\n",
       "      <td>-0.092227</td>\n",
       "      <td>0.025412</td>\n",
       "      <td>-0.135957</td>\n",
       "      <td>0.056394</td>\n",
       "      <td>-0.139968</td>\n",
       "      <td>...</td>\n",
       "      <td>0.122207</td>\n",
       "      <td>0.523554</td>\n",
       "      <td>0.091871</td>\n",
       "      <td>0.653741</td>\n",
       "      <td>0.083193</td>\n",
       "      <td>0.759576</td>\n",
       "      <td>0.123019</td>\n",
       "      <td>0.396749</td>\n",
       "      <td>0.038686</td>\n",
       "      <td>0.897287</td>\n",
       "    </tr>\n",
       "  </tbody>\n",
       "</table>\n",
       "<p>2 rows × 52 columns</p>\n",
       "</div>"
      ],
      "text/plain": [
       "  Model    TargetMetric         Threshold Symbol  \\\n",
       "0  BRFC  ConstrainedAUC  AdaptedThreshold     D1   \n",
       "4   RFC  ConstrainedAUC  AdaptedThreshold     D3   \n",
       "\n",
       "   ConstrainedVolumeReductionEval0Std  ConstrainedVolumeReductionEval0Mean  \\\n",
       "0                            0.025344                            -0.062874   \n",
       "4                            0.073786                            -0.092227   \n",
       "\n",
       "   ConstrainedVolumeReductionEval1Std  ConstrainedVolumeReductionEval1Mean  \\\n",
       "0                            0.015779                            -0.043254   \n",
       "4                            0.025412                            -0.135957   \n",
       "\n",
       "   ConstrainedVolumeReductionEval2Std  ConstrainedVolumeReductionEval2Mean  \\\n",
       "0                            0.030544                            -0.076404   \n",
       "4                            0.056394                            -0.139968   \n",
       "\n",
       "   ...  VolumeReductionEval1 Std  VolumeReductionEval1 Mean  \\\n",
       "0  ...                  0.066024                   0.487191   \n",
       "4  ...                  0.122207                   0.523554   \n",
       "\n",
       "   VolumeReductionEval2 Std  VolumeReductionEval2 Mean  \\\n",
       "0                  0.066297                   0.653039   \n",
       "4                  0.091871                   0.653741   \n",
       "\n",
       "   VolumeReductionEval3 Std  VolumeReductionEval3 Mean  \\\n",
       "0                  0.043108                   0.779705   \n",
       "4                  0.083193                   0.759576   \n",
       "\n",
       "   VolumeReductionEval4 Std  VolumeReductionEval4 Mean  \\\n",
       "0                  0.057409                   0.415436   \n",
       "4                  0.123019                   0.396749   \n",
       "\n",
       "   VolumeReductionTest Std  VolumeReductionTest Mean  \n",
       "0                 0.030189                  0.797217  \n",
       "4                 0.038686                  0.897287  \n",
       "\n",
       "[2 rows x 52 columns]"
      ]
     },
     "execution_count": 49,
     "metadata": {},
     "output_type": "execute_result"
    }
   ],
   "source": [
    "time_df=eval_df[[symbol==\"D1\" or symbol==\"D3\" for symbol in eval_df[\"Symbol\"]]]\n",
    "time_df=time_df[time_df[\"Threshold\"]==\"AdaptedThreshold\"]\n",
    "cols=[c for c in time_df.columns if (\"Mean\" in c or \"Std\" in c) and (\"Slip\" in c or (\"VolumeReduction\" in c ))]# and  not \"Recall\" in c not \"Constrained\" in c and\n",
    "time_df=time_df[[\"Model\",\"TargetMetric\", \"Threshold\",\"Symbol\"]+cols]\n",
    "time_df"
   ]
  },
  {
   "cell_type": "code",
   "execution_count": 50,
   "metadata": {},
   "outputs": [],
   "source": [
    "slip_mean_cols=['SlipTestMean', 'SlipEval0Mean', 'SlipEval1Mean', 'SlipEval2Mean', 'SlipEval3Mean', 'SlipEval4Mean']\n",
    "volume_mean_cols=['VolumeReductionTest Mean', 'VolumeReductionEval0 Mean', 'VolumeReductionEval1 Mean', 'VolumeReductionEval2 Mean', 'VolumeReductionEval3 Mean', 'VolumeReductionEval4 Mean']\n",
    "slip_std_cols=['SlipTestStd', 'SlipEval0Std', 'SlipEval1Std', 'SlipEval2Std', 'SlipEval3Std', 'SlipEval4Std']\n",
    "volume_std_cols=['VolumeReductionTest Std', 'VolumeReductionEval0 Std', 'VolumeReductionEval1 Std', 'VolumeReductionEval2 Std', 'VolumeReductionEval3 Std', 'VolumeReductionEval4 Std']\n",
    "x_labels=[\"Test dataset\", \"Evaluation slice 1\", \"Evaluation slice 2\", \"Evaluation slice 3\", \"Evaluation slice 4\", \"Evaluation slice 5\",]"
   ]
  },
  {
   "cell_type": "code",
   "execution_count": 51,
   "metadata": {},
   "outputs": [
    {
     "data": {
      "application/vnd.plotly.v1+json": {
       "config": {
        "plotlyServerURL": "https://plot.ly"
       },
       "data": [
        {
         "error_y": {
          "array": [
           0.005872698556434038,
           0.025344097217710342,
           0.01577909270216964,
           0.030543698952754755,
           0.01014031278360614,
           0.01693842486214971
          ]
         },
         "legendgroup": "D1",
         "marker": {
          "color": "#00D7A0"
         },
         "name": "D1",
         "showlegend": true,
         "type": "scatter",
         "x": [
          "Test dataset",
          "Evaluation slice 1",
          "Evaluation slice 2",
          "Evaluation slice 3",
          "Evaluation slice 4",
          "Evaluation slice 5"
         ],
         "xaxis": "x",
         "y": [
          0.008351648351648366,
          0.07287449392712553,
          0.05325443786982231,
          0.08640379228614503,
          0.09398133247505658,
          0.09293701185593073
         ],
         "yaxis": "y"
        },
        {
         "error_y": {
          "array": [
           0.030188595813572937,
           0.04497495378483195,
           0.06602363421305364,
           0.06629735076667667,
           0.04310784891205805,
           0.057409439338287335
          ]
         },
         "legendgroup": "D1",
         "marker": {
          "color": "#00D7A0"
         },
         "name": "D1",
         "showlegend": false,
         "type": "scatter",
         "x": [
          "Test dataset",
          "Evaluation slice 1",
          "Evaluation slice 2",
          "Evaluation slice 3",
          "Evaluation slice 4",
          "Evaluation slice 5"
         ],
         "xaxis": "x2",
         "y": [
          0.797217046427175,
          0.6749734823580977,
          0.48719056246109077,
          0.6530385416831799,
          0.7797054237814843,
          0.4154358265096913
         ],
         "yaxis": "y2"
        },
        {
         "error_y": {
          "array": [
           0.012354698305543041,
           0.07378604987989598,
           0.025412423524112694,
           0.05639410613360222,
           0.032945246604377885,
           0.045745224144659875
          ]
         },
         "legendgroup": "D3",
         "marker": {
          "color": "#00646E"
         },
         "name": "D3",
         "showlegend": true,
         "type": "scatter",
         "x": [
          "Test dataset",
          "Evaluation slice 1",
          "Evaluation slice 2",
          "Evaluation slice 3",
          "Evaluation slice 4",
          "Evaluation slice 5"
         ],
         "xaxis": "x",
         "y": [
          0.010329670329670249,
          0.10222672064777316,
          0.1459566074950689,
          0.149967679379444,
          0.10862568393949146,
          0.1096252177333259
         ],
         "yaxis": "y"
        },
        {
         "error_y": {
          "array": [
           0.03868629948040635,
           0.08400130083510644,
           0.12220665821868243,
           0.09187115728751243,
           0.08319272993763066,
           0.12301942421575407
          ]
         },
         "legendgroup": "D3",
         "marker": {
          "color": "#00646E"
         },
         "name": "D3",
         "showlegend": false,
         "type": "scatter",
         "x": [
          "Test dataset",
          "Evaluation slice 1",
          "Evaluation slice 2",
          "Evaluation slice 3",
          "Evaluation slice 4",
          "Evaluation slice 5"
         ],
         "xaxis": "x2",
         "y": [
          0.8972867875748045,
          0.6665246548323472,
          0.5235536265135246,
          0.6537413492143175,
          0.7595758702535883,
          0.39674917548285416
         ],
         "yaxis": "y2"
        },
        {
         "legendgroup": "Requirement",
         "marker": {
          "color": "#EC6602"
         },
         "mode": "lines",
         "name": "Requirement",
         "type": "scatter",
         "x": [
          "Test dataset",
          "Evaluation slice 1",
          "Evaluation slice 2",
          "Evaluation slice 3",
          "Evaluation slice 4",
          "Evaluation slice 5"
         ],
         "xaxis": "x",
         "y": [
          0.01,
          0.01,
          0.01,
          0.01,
          0.01,
          0.01
         ],
         "yaxis": "y"
        },
        {
         "legendgroup": "Requirement",
         "marker": {
          "color": "#EC6602"
         },
         "mode": "lines",
         "name": "Requirement",
         "showlegend": false,
         "type": "scatter",
         "x": [
          "Test dataset",
          "Evaluation slice 1",
          "Evaluation slice 2",
          "Evaluation slice 3",
          "Evaluation slice 4",
          "Evaluation slice 5"
         ],
         "xaxis": "x2",
         "y": [
          0.4,
          0.4,
          0.4,
          0.4,
          0.4,
          0.4
         ],
         "yaxis": "y2"
        }
       ],
       "layout": {
        "annotations": [
         {
          "font": {
           "size": 16
          },
          "showarrow": false,
          "text": "Slip rates",
          "x": 0.5,
          "xanchor": "center",
          "xref": "paper",
          "y": 1,
          "yanchor": "bottom",
          "yref": "paper"
         },
         {
          "font": {
           "size": 16
          },
          "showarrow": false,
          "text": "Volume reductions",
          "x": 0.5,
          "xanchor": "center",
          "xref": "paper",
          "y": 0.375,
          "yanchor": "bottom",
          "yref": "paper"
         }
        ],
        "height": 600,
        "legend": {
         "orientation": "h",
         "x": 0.35,
         "y": 0.5
        },
        "margin": {
         "b": 0,
         "l": 0,
         "r": 0,
         "t": 20
        },
        "template": {
         "data": {
          "bar": [
           {
            "error_x": {
             "color": "#2a3f5f"
            },
            "error_y": {
             "color": "#2a3f5f"
            },
            "marker": {
             "line": {
              "color": "#E5ECF6",
              "width": 0.5
             },
             "pattern": {
              "fillmode": "overlay",
              "size": 10,
              "solidity": 0.2
             }
            },
            "type": "bar"
           }
          ],
          "barpolar": [
           {
            "marker": {
             "line": {
              "color": "#E5ECF6",
              "width": 0.5
             },
             "pattern": {
              "fillmode": "overlay",
              "size": 10,
              "solidity": 0.2
             }
            },
            "type": "barpolar"
           }
          ],
          "carpet": [
           {
            "aaxis": {
             "endlinecolor": "#2a3f5f",
             "gridcolor": "white",
             "linecolor": "white",
             "minorgridcolor": "white",
             "startlinecolor": "#2a3f5f"
            },
            "baxis": {
             "endlinecolor": "#2a3f5f",
             "gridcolor": "white",
             "linecolor": "white",
             "minorgridcolor": "white",
             "startlinecolor": "#2a3f5f"
            },
            "type": "carpet"
           }
          ],
          "choropleth": [
           {
            "colorbar": {
             "outlinewidth": 0,
             "ticks": ""
            },
            "type": "choropleth"
           }
          ],
          "contour": [
           {
            "colorbar": {
             "outlinewidth": 0,
             "ticks": ""
            },
            "colorscale": [
             [
              0,
              "#0d0887"
             ],
             [
              0.1111111111111111,
              "#46039f"
             ],
             [
              0.2222222222222222,
              "#7201a8"
             ],
             [
              0.3333333333333333,
              "#9c179e"
             ],
             [
              0.4444444444444444,
              "#bd3786"
             ],
             [
              0.5555555555555556,
              "#d8576b"
             ],
             [
              0.6666666666666666,
              "#ed7953"
             ],
             [
              0.7777777777777778,
              "#fb9f3a"
             ],
             [
              0.8888888888888888,
              "#fdca26"
             ],
             [
              1,
              "#f0f921"
             ]
            ],
            "type": "contour"
           }
          ],
          "contourcarpet": [
           {
            "colorbar": {
             "outlinewidth": 0,
             "ticks": ""
            },
            "type": "contourcarpet"
           }
          ],
          "heatmap": [
           {
            "colorbar": {
             "outlinewidth": 0,
             "ticks": ""
            },
            "colorscale": [
             [
              0,
              "#0d0887"
             ],
             [
              0.1111111111111111,
              "#46039f"
             ],
             [
              0.2222222222222222,
              "#7201a8"
             ],
             [
              0.3333333333333333,
              "#9c179e"
             ],
             [
              0.4444444444444444,
              "#bd3786"
             ],
             [
              0.5555555555555556,
              "#d8576b"
             ],
             [
              0.6666666666666666,
              "#ed7953"
             ],
             [
              0.7777777777777778,
              "#fb9f3a"
             ],
             [
              0.8888888888888888,
              "#fdca26"
             ],
             [
              1,
              "#f0f921"
             ]
            ],
            "type": "heatmap"
           }
          ],
          "heatmapgl": [
           {
            "colorbar": {
             "outlinewidth": 0,
             "ticks": ""
            },
            "colorscale": [
             [
              0,
              "#0d0887"
             ],
             [
              0.1111111111111111,
              "#46039f"
             ],
             [
              0.2222222222222222,
              "#7201a8"
             ],
             [
              0.3333333333333333,
              "#9c179e"
             ],
             [
              0.4444444444444444,
              "#bd3786"
             ],
             [
              0.5555555555555556,
              "#d8576b"
             ],
             [
              0.6666666666666666,
              "#ed7953"
             ],
             [
              0.7777777777777778,
              "#fb9f3a"
             ],
             [
              0.8888888888888888,
              "#fdca26"
             ],
             [
              1,
              "#f0f921"
             ]
            ],
            "type": "heatmapgl"
           }
          ],
          "histogram": [
           {
            "marker": {
             "pattern": {
              "fillmode": "overlay",
              "size": 10,
              "solidity": 0.2
             }
            },
            "type": "histogram"
           }
          ],
          "histogram2d": [
           {
            "colorbar": {
             "outlinewidth": 0,
             "ticks": ""
            },
            "colorscale": [
             [
              0,
              "#0d0887"
             ],
             [
              0.1111111111111111,
              "#46039f"
             ],
             [
              0.2222222222222222,
              "#7201a8"
             ],
             [
              0.3333333333333333,
              "#9c179e"
             ],
             [
              0.4444444444444444,
              "#bd3786"
             ],
             [
              0.5555555555555556,
              "#d8576b"
             ],
             [
              0.6666666666666666,
              "#ed7953"
             ],
             [
              0.7777777777777778,
              "#fb9f3a"
             ],
             [
              0.8888888888888888,
              "#fdca26"
             ],
             [
              1,
              "#f0f921"
             ]
            ],
            "type": "histogram2d"
           }
          ],
          "histogram2dcontour": [
           {
            "colorbar": {
             "outlinewidth": 0,
             "ticks": ""
            },
            "colorscale": [
             [
              0,
              "#0d0887"
             ],
             [
              0.1111111111111111,
              "#46039f"
             ],
             [
              0.2222222222222222,
              "#7201a8"
             ],
             [
              0.3333333333333333,
              "#9c179e"
             ],
             [
              0.4444444444444444,
              "#bd3786"
             ],
             [
              0.5555555555555556,
              "#d8576b"
             ],
             [
              0.6666666666666666,
              "#ed7953"
             ],
             [
              0.7777777777777778,
              "#fb9f3a"
             ],
             [
              0.8888888888888888,
              "#fdca26"
             ],
             [
              1,
              "#f0f921"
             ]
            ],
            "type": "histogram2dcontour"
           }
          ],
          "mesh3d": [
           {
            "colorbar": {
             "outlinewidth": 0,
             "ticks": ""
            },
            "type": "mesh3d"
           }
          ],
          "parcoords": [
           {
            "line": {
             "colorbar": {
              "outlinewidth": 0,
              "ticks": ""
             }
            },
            "type": "parcoords"
           }
          ],
          "pie": [
           {
            "automargin": true,
            "type": "pie"
           }
          ],
          "scatter": [
           {
            "fillpattern": {
             "fillmode": "overlay",
             "size": 10,
             "solidity": 0.2
            },
            "type": "scatter"
           }
          ],
          "scatter3d": [
           {
            "line": {
             "colorbar": {
              "outlinewidth": 0,
              "ticks": ""
             }
            },
            "marker": {
             "colorbar": {
              "outlinewidth": 0,
              "ticks": ""
             }
            },
            "type": "scatter3d"
           }
          ],
          "scattercarpet": [
           {
            "marker": {
             "colorbar": {
              "outlinewidth": 0,
              "ticks": ""
             }
            },
            "type": "scattercarpet"
           }
          ],
          "scattergeo": [
           {
            "marker": {
             "colorbar": {
              "outlinewidth": 0,
              "ticks": ""
             }
            },
            "type": "scattergeo"
           }
          ],
          "scattergl": [
           {
            "marker": {
             "colorbar": {
              "outlinewidth": 0,
              "ticks": ""
             }
            },
            "type": "scattergl"
           }
          ],
          "scattermapbox": [
           {
            "marker": {
             "colorbar": {
              "outlinewidth": 0,
              "ticks": ""
             }
            },
            "type": "scattermapbox"
           }
          ],
          "scatterpolar": [
           {
            "marker": {
             "colorbar": {
              "outlinewidth": 0,
              "ticks": ""
             }
            },
            "type": "scatterpolar"
           }
          ],
          "scatterpolargl": [
           {
            "marker": {
             "colorbar": {
              "outlinewidth": 0,
              "ticks": ""
             }
            },
            "type": "scatterpolargl"
           }
          ],
          "scatterternary": [
           {
            "marker": {
             "colorbar": {
              "outlinewidth": 0,
              "ticks": ""
             }
            },
            "type": "scatterternary"
           }
          ],
          "surface": [
           {
            "colorbar": {
             "outlinewidth": 0,
             "ticks": ""
            },
            "colorscale": [
             [
              0,
              "#0d0887"
             ],
             [
              0.1111111111111111,
              "#46039f"
             ],
             [
              0.2222222222222222,
              "#7201a8"
             ],
             [
              0.3333333333333333,
              "#9c179e"
             ],
             [
              0.4444444444444444,
              "#bd3786"
             ],
             [
              0.5555555555555556,
              "#d8576b"
             ],
             [
              0.6666666666666666,
              "#ed7953"
             ],
             [
              0.7777777777777778,
              "#fb9f3a"
             ],
             [
              0.8888888888888888,
              "#fdca26"
             ],
             [
              1,
              "#f0f921"
             ]
            ],
            "type": "surface"
           }
          ],
          "table": [
           {
            "cells": {
             "fill": {
              "color": "#EBF0F8"
             },
             "line": {
              "color": "white"
             }
            },
            "header": {
             "fill": {
              "color": "#C8D4E3"
             },
             "line": {
              "color": "white"
             }
            },
            "type": "table"
           }
          ]
         },
         "layout": {
          "annotationdefaults": {
           "arrowcolor": "#2a3f5f",
           "arrowhead": 0,
           "arrowwidth": 1
          },
          "autotypenumbers": "strict",
          "coloraxis": {
           "colorbar": {
            "outlinewidth": 0,
            "ticks": ""
           }
          },
          "colorscale": {
           "diverging": [
            [
             0,
             "#8e0152"
            ],
            [
             0.1,
             "#c51b7d"
            ],
            [
             0.2,
             "#de77ae"
            ],
            [
             0.3,
             "#f1b6da"
            ],
            [
             0.4,
             "#fde0ef"
            ],
            [
             0.5,
             "#f7f7f7"
            ],
            [
             0.6,
             "#e6f5d0"
            ],
            [
             0.7,
             "#b8e186"
            ],
            [
             0.8,
             "#7fbc41"
            ],
            [
             0.9,
             "#4d9221"
            ],
            [
             1,
             "#276419"
            ]
           ],
           "sequential": [
            [
             0,
             "#0d0887"
            ],
            [
             0.1111111111111111,
             "#46039f"
            ],
            [
             0.2222222222222222,
             "#7201a8"
            ],
            [
             0.3333333333333333,
             "#9c179e"
            ],
            [
             0.4444444444444444,
             "#bd3786"
            ],
            [
             0.5555555555555556,
             "#d8576b"
            ],
            [
             0.6666666666666666,
             "#ed7953"
            ],
            [
             0.7777777777777778,
             "#fb9f3a"
            ],
            [
             0.8888888888888888,
             "#fdca26"
            ],
            [
             1,
             "#f0f921"
            ]
           ],
           "sequentialminus": [
            [
             0,
             "#0d0887"
            ],
            [
             0.1111111111111111,
             "#46039f"
            ],
            [
             0.2222222222222222,
             "#7201a8"
            ],
            [
             0.3333333333333333,
             "#9c179e"
            ],
            [
             0.4444444444444444,
             "#bd3786"
            ],
            [
             0.5555555555555556,
             "#d8576b"
            ],
            [
             0.6666666666666666,
             "#ed7953"
            ],
            [
             0.7777777777777778,
             "#fb9f3a"
            ],
            [
             0.8888888888888888,
             "#fdca26"
            ],
            [
             1,
             "#f0f921"
            ]
           ]
          },
          "colorway": [
           "#636efa",
           "#EF553B",
           "#00cc96",
           "#ab63fa",
           "#FFA15A",
           "#19d3f3",
           "#FF6692",
           "#B6E880",
           "#FF97FF",
           "#FECB52"
          ],
          "font": {
           "color": "#2a3f5f"
          },
          "geo": {
           "bgcolor": "white",
           "lakecolor": "white",
           "landcolor": "#E5ECF6",
           "showlakes": true,
           "showland": true,
           "subunitcolor": "white"
          },
          "hoverlabel": {
           "align": "left"
          },
          "hovermode": "closest",
          "mapbox": {
           "style": "light"
          },
          "paper_bgcolor": "white",
          "plot_bgcolor": "#E5ECF6",
          "polar": {
           "angularaxis": {
            "gridcolor": "white",
            "linecolor": "white",
            "ticks": ""
           },
           "bgcolor": "#E5ECF6",
           "radialaxis": {
            "gridcolor": "white",
            "linecolor": "white",
            "ticks": ""
           }
          },
          "scene": {
           "xaxis": {
            "backgroundcolor": "#E5ECF6",
            "gridcolor": "white",
            "gridwidth": 2,
            "linecolor": "white",
            "showbackground": true,
            "ticks": "",
            "zerolinecolor": "white"
           },
           "yaxis": {
            "backgroundcolor": "#E5ECF6",
            "gridcolor": "white",
            "gridwidth": 2,
            "linecolor": "white",
            "showbackground": true,
            "ticks": "",
            "zerolinecolor": "white"
           },
           "zaxis": {
            "backgroundcolor": "#E5ECF6",
            "gridcolor": "white",
            "gridwidth": 2,
            "linecolor": "white",
            "showbackground": true,
            "ticks": "",
            "zerolinecolor": "white"
           }
          },
          "shapedefaults": {
           "line": {
            "color": "#2a3f5f"
           }
          },
          "ternary": {
           "aaxis": {
            "gridcolor": "white",
            "linecolor": "white",
            "ticks": ""
           },
           "baxis": {
            "gridcolor": "white",
            "linecolor": "white",
            "ticks": ""
           },
           "bgcolor": "#E5ECF6",
           "caxis": {
            "gridcolor": "white",
            "linecolor": "white",
            "ticks": ""
           }
          },
          "title": {
           "x": 0.05
          },
          "xaxis": {
           "automargin": true,
           "gridcolor": "white",
           "linecolor": "white",
           "ticks": "",
           "title": {
            "standoff": 15
           },
           "zerolinecolor": "white",
           "zerolinewidth": 2
          },
          "yaxis": {
           "automargin": true,
           "gridcolor": "white",
           "linecolor": "white",
           "ticks": "",
           "title": {
            "standoff": 15
           },
           "zerolinecolor": "white",
           "zerolinewidth": 2
          }
         }
        },
        "width": 800,
        "xaxis": {
         "anchor": "y",
         "domain": [
          0,
          1
         ],
         "title": {
          "text": "Evaluation dataset"
         },
         "type": "category"
        },
        "xaxis2": {
         "anchor": "y2",
         "domain": [
          0,
          1
         ],
         "title": {
          "text": "Evaluation dataset"
         },
         "type": "category"
        },
        "yaxis": {
         "anchor": "x",
         "domain": [
          0.625,
          1
         ],
         "linecolor": "black",
         "linewidth": 2,
         "showline": true,
         "title": {
          "text": "Value"
         }
        },
        "yaxis2": {
         "anchor": "x2",
         "domain": [
          0,
          0.375
         ],
         "dtick": 0.1,
         "linecolor": "black",
         "linewidth": 2,
         "showline": true,
         "tickmode": "linear",
         "title": {
          "text": "Value"
         }
        }
       }
      }
     },
     "metadata": {},
     "output_type": "display_data"
    }
   ],
   "source": [
    "fig=make_subplots(rows=2, cols=1,subplot_titles=[\"Slip rates\",\"Volume reductions\"])\n",
    "colors=[\"#00D7A0\",\"#00646E\", \"#EC6602\"]\n",
    "counter=0\n",
    "for symbol in time_df['Symbol'].unique():\n",
    "    fig.add_trace(go.Scatter(x=x_labels, y=1-time_df[time_df[\"Symbol\"]==symbol][slip_mean_cols].values.ravel(),error_y=dict(array=time_df[time_df[\"Symbol\"]==symbol][slip_std_cols].values.ravel()),marker=dict(color=colors[counter]), name=symbol, legendgroup=symbol,showlegend=True),row=1, col=1)\n",
    "    fig.add_trace(go.Scatter(x=x_labels,y=time_df[time_df[\"Symbol\"]==symbol][volume_mean_cols].values.ravel(),error_y=dict(array=time_df[time_df[\"Symbol\"]==symbol][volume_std_cols].values.ravel()),marker=dict(color=colors[counter]), name=symbol, legendgroup=symbol,showlegend=False),row=2, col=1)\n",
    "    counter+=1\n",
    "fig.add_trace(go.Scatter(x=x_labels, y=[0.01]*6, name=\"Requirement\", mode=\"lines\",legendgroup=\"Requirement\",marker=dict(color=colors[counter])),row=1, col=1)\n",
    "fig.add_trace(go.Scatter(x=x_labels, y=[0.4]*6, name=\"Requirement\", mode=\"lines\",legendgroup=\"Requirement\", showlegend=False,marker=dict(color=colors[counter])),row=2, col=1)\n",
    "fig.update_layout(width=800,height=600, margin=dict(l=0, r=0, t=20, b=0), legend=dict(y=0.5,x=0.35,orientation=\"h\"))\n",
    "fig.update_xaxes(type='category',title=\"Evaluation dataset\")\n",
    "# fig.update_xaxes(linewidth=2, linecolor='black',showline=True,row=2,col=1)#yaxis=dict(tickmode=\"linear\",dtick=0.2)\n",
    "fig.update_yaxes(tickmode=\"linear\",dtick=0.1,row=2,col=1)\n",
    "fig.update_yaxes(title=\"Value\",linewidth=2, linecolor='black',showline=True)\n",
    "\n",
    "fig.show()\n",
    "fig.write_image(\"./figs/Evaluation_timeline.svg\")"
   ]
  }
 ],
 "metadata": {
  "kernelspec": {
   "display_name": "raststatt-data-analysis-bpOs2PCw-py3.10",
   "language": "python",
   "name": "python3"
  },
  "language_info": {
   "codemirror_mode": {
    "name": "ipython",
    "version": 3
   },
   "file_extension": ".py",
   "mimetype": "text/x-python",
   "name": "python",
   "nbconvert_exporter": "python",
   "pygments_lexer": "ipython3",
   "version": "3.10.5"
  },
  "orig_nbformat": 4
 },
 "nbformat": 4,
 "nbformat_minor": 2
}
